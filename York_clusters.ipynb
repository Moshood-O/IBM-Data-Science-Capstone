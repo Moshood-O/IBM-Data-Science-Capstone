{
 "cells": [
  {
   "cell_type": "markdown",
   "metadata": {},
   "source": [
    "# This notebook explores, segments and clusters the neighborhoods in the city of Toronto"
   ]
  },
  {
   "cell_type": "markdown",
   "metadata": {},
   "source": [
    "### _Import necessary dependencies_"
   ]
  },
  {
   "cell_type": "code",
   "execution_count": 1,
   "metadata": {},
   "outputs": [],
   "source": [
    "from bs4 import BeautifulSoup as bs # for scraping\n",
    "import requests # for sending web requests\n",
    "\n",
    "# data manipulation\n",
    "import pandas as pd\n",
    "from pandas import json_normalize\n",
    "import numpy as np\n",
    "\n",
    "from geopy.geocoders import Nominatim # for obtaining the coordinates of an address\n",
    "\n",
    "# visualization tools\n",
    "import folium\n",
    "import matplotlib.pyplot as plt\n",
    "import matplotlib.cm as cm\n",
    "import matplotlib.colors as colors\n",
    "%matplotlib inline\n",
    "\n",
    "import inflect # for converting integers to ordinals\n",
    "\n",
    "from sklearn.cluster import KMeans # for clustering\n"
   ]
  },
  {
   "cell_type": "markdown",
   "metadata": {},
   "source": [
    "## 1) Web Scraping and Data Wrangling"
   ]
  },
  {
   "cell_type": "markdown",
   "metadata": {},
   "source": [
    "### Web Scraping"
   ]
  },
  {
   "cell_type": "markdown",
   "metadata": {},
   "source": [
    "**Send a GET request to the URL of the wikipedia page containing the data**"
   ]
  },
  {
   "cell_type": "code",
   "execution_count": 2,
   "metadata": {},
   "outputs": [],
   "source": [
    "url = \"https://en.wikipedia.org/wiki/List_of_postal_codes_of_Canada:_M\"\n",
    "html_content = requests.get(url).text"
   ]
  },
  {
   "cell_type": "markdown",
   "metadata": {},
   "source": [
    "**Fetch and parse the data using BeautifulSoup**"
   ]
  },
  {
   "cell_type": "code",
   "execution_count": 3,
   "metadata": {},
   "outputs": [],
   "source": [
    "soup = bs(html_content, \"html5lib\")"
   ]
  },
  {
   "cell_type": "markdown",
   "metadata": {},
   "source": [
    "**View title of webpage without HTML tags**"
   ]
  },
  {
   "cell_type": "code",
   "execution_count": 4,
   "metadata": {},
   "outputs": [
    {
     "data": {
      "text/plain": [
       "'List of postal codes of Canada: M - Wikipedia'"
      ]
     },
     "execution_count": 4,
     "metadata": {},
     "output_type": "execute_result"
    }
   ],
   "source": [
    "soup.title.text"
   ]
  },
  {
   "cell_type": "markdown",
   "metadata": {},
   "source": [
    "**Get table data and store it in a dictionary**"
   ]
  },
  {
   "cell_type": "code",
   "execution_count": 5,
   "metadata": {},
   "outputs": [],
   "source": [
    "table = soup.find(\"table\", attrs={\"class\": \"wikitable\"}).tbody.find_all(\"tr\")"
   ]
  },
  {
   "cell_type": "markdown",
   "metadata": {},
   "source": [
    "_Store table headers in a list_"
   ]
  },
  {
   "cell_type": "code",
   "execution_count": 6,
   "metadata": {},
   "outputs": [
    {
     "data": {
      "text/plain": [
       "['Postal Code', 'Borough', 'Neighborhood']"
      ]
     },
     "execution_count": 6,
     "metadata": {},
     "output_type": "execute_result"
    }
   ],
   "source": [
    "headers = []\n",
    "\n",
    "for th in table[0].find_all(\"th\"):\n",
    "    headers.append(th.text.replace(\"\\n\", \" \").strip())\n",
    "\n",
    "headers"
   ]
  },
  {
   "cell_type": "markdown",
   "metadata": {},
   "source": [
    "_Create an empty dictionary with the table headers as the keys_"
   ]
  },
  {
   "cell_type": "code",
   "execution_count": 7,
   "metadata": {},
   "outputs": [
    {
     "data": {
      "text/plain": [
       "{'Postal Code': [], 'Borough': [], 'Neighborhood': []}"
      ]
     },
     "execution_count": 7,
     "metadata": {},
     "output_type": "execute_result"
    }
   ],
   "source": [
    "table_data = {}\n",
    "for header in headers:\n",
    "    table_data[header] = []\n",
    "\n",
    "table_data"
   ]
  },
  {
   "cell_type": "markdown",
   "metadata": {},
   "source": [
    "_Populate the dictionary with the table data_"
   ]
  },
  {
   "cell_type": "code",
   "execution_count": 8,
   "metadata": {},
   "outputs": [],
   "source": [
    "for i in range(1, len(table)):\n",
    "    for header, td in zip(headers, table[i].find_all(\"td\")):\n",
    "        table_data[header].append(td.text.strip())"
   ]
  },
  {
   "cell_type": "markdown",
   "metadata": {},
   "source": [
    "**Convert the dictionary to a dataframe**"
   ]
  },
  {
   "cell_type": "code",
   "execution_count": 9,
   "metadata": {},
   "outputs": [],
   "source": [
    "toronto_df = pd.DataFrame(table_data)"
   ]
  },
  {
   "cell_type": "markdown",
   "metadata": {},
   "source": [
    "**Save dataframe to a csv file**"
   ]
  },
  {
   "cell_type": "code",
   "execution_count": 10,
   "metadata": {},
   "outputs": [],
   "source": [
    "toronto_df.to_csv(\"Toronto_postal_codes.csv\")"
   ]
  },
  {
   "cell_type": "markdown",
   "metadata": {},
   "source": [
    "### Data Wrangling"
   ]
  },
  {
   "cell_type": "markdown",
   "metadata": {},
   "source": [
    "**Rename column**"
   ]
  },
  {
   "cell_type": "code",
   "execution_count": 11,
   "metadata": {},
   "outputs": [],
   "source": [
    "toronto_df.rename(columns={\"Postal Code\": \"PostalCode\"}, inplace=True)"
   ]
  },
  {
   "cell_type": "markdown",
   "metadata": {},
   "source": [
    "**Replace cells that have \"Not assigned\" values with nan**"
   ]
  },
  {
   "cell_type": "code",
   "execution_count": 12,
   "metadata": {},
   "outputs": [],
   "source": [
    "toronto_df.replace(\"Not assigned\", np.nan, inplace=True)"
   ]
  },
  {
   "cell_type": "markdown",
   "metadata": {},
   "source": [
    "**Drop rows with nan values**"
   ]
  },
  {
   "cell_type": "code",
   "execution_count": 13,
   "metadata": {},
   "outputs": [],
   "source": [
    "toronto_df.dropna(inplace=True)\n",
    "toronto_df.reset_index(drop=True, inplace=True)"
   ]
  },
  {
   "cell_type": "markdown",
   "metadata": {},
   "source": [
    "**View first 5 rows of dataframe**"
   ]
  },
  {
   "cell_type": "code",
   "execution_count": 14,
   "metadata": {},
   "outputs": [
    {
     "data": {
      "text/html": [
       "<div>\n",
       "<style scoped>\n",
       "    .dataframe tbody tr th:only-of-type {\n",
       "        vertical-align: middle;\n",
       "    }\n",
       "\n",
       "    .dataframe tbody tr th {\n",
       "        vertical-align: top;\n",
       "    }\n",
       "\n",
       "    .dataframe thead th {\n",
       "        text-align: right;\n",
       "    }\n",
       "</style>\n",
       "<table border=\"1\" class=\"dataframe\">\n",
       "  <thead>\n",
       "    <tr style=\"text-align: right;\">\n",
       "      <th></th>\n",
       "      <th>PostalCode</th>\n",
       "      <th>Borough</th>\n",
       "      <th>Neighborhood</th>\n",
       "    </tr>\n",
       "  </thead>\n",
       "  <tbody>\n",
       "    <tr>\n",
       "      <th>0</th>\n",
       "      <td>M3A</td>\n",
       "      <td>North York</td>\n",
       "      <td>Parkwoods</td>\n",
       "    </tr>\n",
       "    <tr>\n",
       "      <th>1</th>\n",
       "      <td>M4A</td>\n",
       "      <td>North York</td>\n",
       "      <td>Victoria Village</td>\n",
       "    </tr>\n",
       "    <tr>\n",
       "      <th>2</th>\n",
       "      <td>M5A</td>\n",
       "      <td>Downtown Toronto</td>\n",
       "      <td>Regent Park, Harbourfront</td>\n",
       "    </tr>\n",
       "    <tr>\n",
       "      <th>3</th>\n",
       "      <td>M6A</td>\n",
       "      <td>North York</td>\n",
       "      <td>Lawrence Manor, Lawrence Heights</td>\n",
       "    </tr>\n",
       "    <tr>\n",
       "      <th>4</th>\n",
       "      <td>M7A</td>\n",
       "      <td>Downtown Toronto</td>\n",
       "      <td>Queen's Park, Ontario Provincial Government</td>\n",
       "    </tr>\n",
       "  </tbody>\n",
       "</table>\n",
       "</div>"
      ],
      "text/plain": [
       "  PostalCode           Borough                                 Neighborhood\n",
       "0        M3A        North York                                    Parkwoods\n",
       "1        M4A        North York                             Victoria Village\n",
       "2        M5A  Downtown Toronto                    Regent Park, Harbourfront\n",
       "3        M6A        North York             Lawrence Manor, Lawrence Heights\n",
       "4        M7A  Downtown Toronto  Queen's Park, Ontario Provincial Government"
      ]
     },
     "execution_count": 14,
     "metadata": {},
     "output_type": "execute_result"
    }
   ],
   "source": [
    "toronto_df.head()"
   ]
  },
  {
   "cell_type": "markdown",
   "metadata": {},
   "source": [
    "## Before moving forward, an important assumption needs to be made at this point. It is seen that there are multiple neighborhoods under some postal codes so those neighborhoods are assumed to be just one for ease of analysis"
   ]
  },
  {
   "cell_type": "markdown",
   "metadata": {},
   "source": [
    "**Check for duplicate neighborhoods in dataframe**"
   ]
  },
  {
   "cell_type": "code",
   "execution_count": 15,
   "metadata": {},
   "outputs": [
    {
     "data": {
      "text/html": [
       "<div>\n",
       "<style scoped>\n",
       "    .dataframe tbody tr th:only-of-type {\n",
       "        vertical-align: middle;\n",
       "    }\n",
       "\n",
       "    .dataframe tbody tr th {\n",
       "        vertical-align: top;\n",
       "    }\n",
       "\n",
       "    .dataframe thead th {\n",
       "        text-align: right;\n",
       "    }\n",
       "</style>\n",
       "<table border=\"1\" class=\"dataframe\">\n",
       "  <thead>\n",
       "    <tr style=\"text-align: right;\">\n",
       "      <th></th>\n",
       "      <th>PostalCode</th>\n",
       "      <th>Borough</th>\n",
       "      <th>Neighborhood</th>\n",
       "    </tr>\n",
       "  </thead>\n",
       "  <tbody>\n",
       "    <tr>\n",
       "      <th>7</th>\n",
       "      <td>M3B</td>\n",
       "      <td>North York</td>\n",
       "      <td>Don Mills</td>\n",
       "    </tr>\n",
       "    <tr>\n",
       "      <th>13</th>\n",
       "      <td>M3C</td>\n",
       "      <td>North York</td>\n",
       "      <td>Don Mills</td>\n",
       "    </tr>\n",
       "    <tr>\n",
       "      <th>40</th>\n",
       "      <td>M3K</td>\n",
       "      <td>North York</td>\n",
       "      <td>Downsview</td>\n",
       "    </tr>\n",
       "    <tr>\n",
       "      <th>46</th>\n",
       "      <td>M3L</td>\n",
       "      <td>North York</td>\n",
       "      <td>Downsview</td>\n",
       "    </tr>\n",
       "    <tr>\n",
       "      <th>53</th>\n",
       "      <td>M3M</td>\n",
       "      <td>North York</td>\n",
       "      <td>Downsview</td>\n",
       "    </tr>\n",
       "    <tr>\n",
       "      <th>60</th>\n",
       "      <td>M3N</td>\n",
       "      <td>North York</td>\n",
       "      <td>Downsview</td>\n",
       "    </tr>\n",
       "  </tbody>\n",
       "</table>\n",
       "</div>"
      ],
      "text/plain": [
       "   PostalCode     Borough Neighborhood\n",
       "7         M3B  North York    Don Mills\n",
       "13        M3C  North York    Don Mills\n",
       "40        M3K  North York    Downsview\n",
       "46        M3L  North York    Downsview\n",
       "53        M3M  North York    Downsview\n",
       "60        M3N  North York    Downsview"
      ]
     },
     "execution_count": 15,
     "metadata": {},
     "output_type": "execute_result"
    }
   ],
   "source": [
    "toronto_df[toronto_df.duplicated([\"Neighborhood\"], keep=False)]"
   ]
  },
  {
   "cell_type": "markdown",
   "metadata": {},
   "source": [
    "After research, it was discovered that there are no neighborhoods sharing the names Don Mills or Downsview in North York borough so the duplicates will be dropped "
   ]
  },
  {
   "cell_type": "markdown",
   "metadata": {},
   "source": [
    "**Drop duplicate neighborhoods**"
   ]
  },
  {
   "cell_type": "code",
   "execution_count": 16,
   "metadata": {},
   "outputs": [],
   "source": [
    "toronto_df.drop_duplicates([\"Neighborhood\"], keep=\"first\", inplace=True)"
   ]
  },
  {
   "cell_type": "markdown",
   "metadata": {},
   "source": [
    "Check to see that the duplicates were dropped"
   ]
  },
  {
   "cell_type": "code",
   "execution_count": 17,
   "metadata": {},
   "outputs": [
    {
     "data": {
      "text/html": [
       "<div>\n",
       "<style scoped>\n",
       "    .dataframe tbody tr th:only-of-type {\n",
       "        vertical-align: middle;\n",
       "    }\n",
       "\n",
       "    .dataframe tbody tr th {\n",
       "        vertical-align: top;\n",
       "    }\n",
       "\n",
       "    .dataframe thead th {\n",
       "        text-align: right;\n",
       "    }\n",
       "</style>\n",
       "<table border=\"1\" class=\"dataframe\">\n",
       "  <thead>\n",
       "    <tr style=\"text-align: right;\">\n",
       "      <th></th>\n",
       "      <th>PostalCode</th>\n",
       "      <th>Borough</th>\n",
       "      <th>Neighborhood</th>\n",
       "    </tr>\n",
       "  </thead>\n",
       "  <tbody>\n",
       "  </tbody>\n",
       "</table>\n",
       "</div>"
      ],
      "text/plain": [
       "Empty DataFrame\n",
       "Columns: [PostalCode, Borough, Neighborhood]\n",
       "Index: []"
      ]
     },
     "execution_count": 17,
     "metadata": {},
     "output_type": "execute_result"
    }
   ],
   "source": [
    "toronto_df[toronto_df.duplicated([\"Neighborhood\"], keep=False)]"
   ]
  },
  {
   "cell_type": "markdown",
   "metadata": {},
   "source": [
    "The duplicate neighborhoods were successfully dropped"
   ]
  },
  {
   "cell_type": "markdown",
   "metadata": {},
   "source": [
    "**What is the size of the toronto_df dataframe?**"
   ]
  },
  {
   "cell_type": "code",
   "execution_count": 18,
   "metadata": {},
   "outputs": [
    {
     "data": {
      "text/plain": [
       "(99, 3)"
      ]
     },
     "execution_count": 18,
     "metadata": {},
     "output_type": "execute_result"
    }
   ],
   "source": [
    "toronto_df.shape"
   ]
  },
  {
   "cell_type": "markdown",
   "metadata": {},
   "source": [
    "## 2) Obtain the coordinates of the neighborhoods\n"
   ]
  },
  {
   "cell_type": "markdown",
   "metadata": {},
   "source": [
    "**Read the coordinates for the postal codes contained in a csv into a dataframe**"
   ]
  },
  {
   "cell_type": "code",
   "execution_count": 19,
   "metadata": {},
   "outputs": [
    {
     "data": {
      "text/html": [
       "<div>\n",
       "<style scoped>\n",
       "    .dataframe tbody tr th:only-of-type {\n",
       "        vertical-align: middle;\n",
       "    }\n",
       "\n",
       "    .dataframe tbody tr th {\n",
       "        vertical-align: top;\n",
       "    }\n",
       "\n",
       "    .dataframe thead th {\n",
       "        text-align: right;\n",
       "    }\n",
       "</style>\n",
       "<table border=\"1\" class=\"dataframe\">\n",
       "  <thead>\n",
       "    <tr style=\"text-align: right;\">\n",
       "      <th></th>\n",
       "      <th>Postal Code</th>\n",
       "      <th>Latitude</th>\n",
       "      <th>Longitude</th>\n",
       "    </tr>\n",
       "  </thead>\n",
       "  <tbody>\n",
       "    <tr>\n",
       "      <th>0</th>\n",
       "      <td>M1B</td>\n",
       "      <td>43.806686</td>\n",
       "      <td>-79.194353</td>\n",
       "    </tr>\n",
       "    <tr>\n",
       "      <th>1</th>\n",
       "      <td>M1C</td>\n",
       "      <td>43.784535</td>\n",
       "      <td>-79.160497</td>\n",
       "    </tr>\n",
       "    <tr>\n",
       "      <th>2</th>\n",
       "      <td>M1E</td>\n",
       "      <td>43.763573</td>\n",
       "      <td>-79.188711</td>\n",
       "    </tr>\n",
       "    <tr>\n",
       "      <th>3</th>\n",
       "      <td>M1G</td>\n",
       "      <td>43.770992</td>\n",
       "      <td>-79.216917</td>\n",
       "    </tr>\n",
       "    <tr>\n",
       "      <th>4</th>\n",
       "      <td>M1H</td>\n",
       "      <td>43.773136</td>\n",
       "      <td>-79.239476</td>\n",
       "    </tr>\n",
       "  </tbody>\n",
       "</table>\n",
       "</div>"
      ],
      "text/plain": [
       "  Postal Code   Latitude  Longitude\n",
       "0         M1B  43.806686 -79.194353\n",
       "1         M1C  43.784535 -79.160497\n",
       "2         M1E  43.763573 -79.188711\n",
       "3         M1G  43.770992 -79.216917\n",
       "4         M1H  43.773136 -79.239476"
      ]
     },
     "execution_count": 19,
     "metadata": {},
     "output_type": "execute_result"
    }
   ],
   "source": [
    "coordinates_df = pd.read_csv(\"Geospatial_Coordinates.csv\")\n",
    "coordinates_df.head()"
   ]
  },
  {
   "cell_type": "markdown",
   "metadata": {},
   "source": [
    "**Merge the toronto_df dataframe with the coordinates_df dataframe**"
   ]
  },
  {
   "cell_type": "code",
   "execution_count": 20,
   "metadata": {},
   "outputs": [],
   "source": [
    "toronto_df = toronto_df.set_index(\"PostalCode\").join(coordinates_df.set_index(\"Postal Code\")).reset_index()"
   ]
  },
  {
   "cell_type": "markdown",
   "metadata": {},
   "source": [
    "**View the first few rows of the resulting dataframe**"
   ]
  },
  {
   "cell_type": "code",
   "execution_count": 21,
   "metadata": {},
   "outputs": [
    {
     "data": {
      "text/html": [
       "<div>\n",
       "<style scoped>\n",
       "    .dataframe tbody tr th:only-of-type {\n",
       "        vertical-align: middle;\n",
       "    }\n",
       "\n",
       "    .dataframe tbody tr th {\n",
       "        vertical-align: top;\n",
       "    }\n",
       "\n",
       "    .dataframe thead th {\n",
       "        text-align: right;\n",
       "    }\n",
       "</style>\n",
       "<table border=\"1\" class=\"dataframe\">\n",
       "  <thead>\n",
       "    <tr style=\"text-align: right;\">\n",
       "      <th></th>\n",
       "      <th>PostalCode</th>\n",
       "      <th>Borough</th>\n",
       "      <th>Neighborhood</th>\n",
       "      <th>Latitude</th>\n",
       "      <th>Longitude</th>\n",
       "    </tr>\n",
       "  </thead>\n",
       "  <tbody>\n",
       "    <tr>\n",
       "      <th>0</th>\n",
       "      <td>M3A</td>\n",
       "      <td>North York</td>\n",
       "      <td>Parkwoods</td>\n",
       "      <td>43.753259</td>\n",
       "      <td>-79.329656</td>\n",
       "    </tr>\n",
       "    <tr>\n",
       "      <th>1</th>\n",
       "      <td>M4A</td>\n",
       "      <td>North York</td>\n",
       "      <td>Victoria Village</td>\n",
       "      <td>43.725882</td>\n",
       "      <td>-79.315572</td>\n",
       "    </tr>\n",
       "    <tr>\n",
       "      <th>2</th>\n",
       "      <td>M5A</td>\n",
       "      <td>Downtown Toronto</td>\n",
       "      <td>Regent Park, Harbourfront</td>\n",
       "      <td>43.654260</td>\n",
       "      <td>-79.360636</td>\n",
       "    </tr>\n",
       "    <tr>\n",
       "      <th>3</th>\n",
       "      <td>M6A</td>\n",
       "      <td>North York</td>\n",
       "      <td>Lawrence Manor, Lawrence Heights</td>\n",
       "      <td>43.718518</td>\n",
       "      <td>-79.464763</td>\n",
       "    </tr>\n",
       "    <tr>\n",
       "      <th>4</th>\n",
       "      <td>M7A</td>\n",
       "      <td>Downtown Toronto</td>\n",
       "      <td>Queen's Park, Ontario Provincial Government</td>\n",
       "      <td>43.662301</td>\n",
       "      <td>-79.389494</td>\n",
       "    </tr>\n",
       "  </tbody>\n",
       "</table>\n",
       "</div>"
      ],
      "text/plain": [
       "  PostalCode           Borough                                 Neighborhood  \\\n",
       "0        M3A        North York                                    Parkwoods   \n",
       "1        M4A        North York                             Victoria Village   \n",
       "2        M5A  Downtown Toronto                    Regent Park, Harbourfront   \n",
       "3        M6A        North York             Lawrence Manor, Lawrence Heights   \n",
       "4        M7A  Downtown Toronto  Queen's Park, Ontario Provincial Government   \n",
       "\n",
       "    Latitude  Longitude  \n",
       "0  43.753259 -79.329656  \n",
       "1  43.725882 -79.315572  \n",
       "2  43.654260 -79.360636  \n",
       "3  43.718518 -79.464763  \n",
       "4  43.662301 -79.389494  "
      ]
     },
     "execution_count": 21,
     "metadata": {},
     "output_type": "execute_result"
    }
   ],
   "source": [
    "toronto_df.head()"
   ]
  },
  {
   "cell_type": "markdown",
   "metadata": {},
   "source": [
    "## 3) Explore and Cluster the Neighborhoods in Toronto"
   ]
  },
  {
   "cell_type": "markdown",
   "metadata": {},
   "source": [
    "### Visualize the neighborhoods of Toronto on a map"
   ]
  },
  {
   "cell_type": "markdown",
   "metadata": {},
   "source": [
    "**Get the coordinates of Toronto using the geopy library**"
   ]
  },
  {
   "cell_type": "code",
   "execution_count": 28,
   "metadata": {},
   "outputs": [],
   "source": [
    "address = \"Toronto, Canada\"\n",
    "locator = Nominatim(user_agent=\"ny_explorer\")\n",
    "location = locator.geocode(address)\n",
    "latitude = location.latitude\n",
    "longitude = location.longitude"
   ]
  },
  {
   "cell_type": "markdown",
   "metadata": {},
   "source": [
    "**Create a map of Toronto showing the different neighborhoods**"
   ]
  },
  {
   "cell_type": "code",
   "execution_count": 29,
   "metadata": {},
   "outputs": [
    {
     "data": {
      "text/html": [
       "<div style=\"width:100%;\"><div style=\"position:relative;width:100%;height:0;padding-bottom:60%;\"><span style=\"color:#565656\">Make this Notebook Trusted to load map: File -> Trust Notebook</span><iframe src=\"about:blank\" style=\"position:absolute;width:100%;height:100%;left:0;top:0;border:none !important;\" data-html=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 onload=\"this.contentDocument.open();this.contentDocument.write(atob(this.getAttribute('data-html')));this.contentDocument.close();\" allowfullscreen webkitallowfullscreen mozallowfullscreen></iframe></div></div>"
      ],
      "text/plain": [
       "<folium.folium.Map at 0x1c4ab431f48>"
      ]
     },
     "execution_count": 29,
     "metadata": {},
     "output_type": "execute_result"
    }
   ],
   "source": [
    "toronto_map = folium.Map(location=[latitude, longitude], zoom_start=10)\n",
    "\n",
    "for lat, lng, label in zip(toronto_df[\"Latitude\"], toronto_df[\"Longitude\"], toronto_df[\"Neighborhood\"]):\n",
    "    label = folium.Popup(label, parse_html=True)\n",
    "    folium.CircleMarker(\n",
    "        [lat, lng],\n",
    "        radius=5,\n",
    "        popup=label,\n",
    "        color='blue',\n",
    "        fill=True,\n",
    "        fill_color='#3186cc',\n",
    "        fill_opacity=0.7,\n",
    "        parse_html=False).add_to(toronto_map)  \n",
    "toronto_map"
   ]
  },
  {
   "cell_type": "markdown",
   "metadata": {},
   "source": [
    "**Get the different boroughs in Toronto**"
   ]
  },
  {
   "cell_type": "code",
   "execution_count": 30,
   "metadata": {},
   "outputs": [
    {
     "data": {
      "text/plain": [
       "array(['North York', 'Downtown Toronto', 'Etobicoke', 'Scarborough',\n",
       "       'East York', 'York', 'East Toronto', 'West Toronto',\n",
       "       'Central Toronto', 'Mississauga'], dtype=object)"
      ]
     },
     "execution_count": 30,
     "metadata": {},
     "output_type": "execute_result"
    }
   ],
   "source": [
    "toronto_df[\"Borough\"].unique()"
   ]
  },
  {
   "cell_type": "code",
   "execution_count": 31,
   "metadata": {},
   "outputs": [
    {
     "data": {
      "text/plain": [
       "10"
      ]
     },
     "execution_count": 31,
     "metadata": {},
     "output_type": "execute_result"
    }
   ],
   "source": [
    "len(toronto_df[\"Borough\"].unique())"
   ]
  },
  {
   "cell_type": "markdown",
   "metadata": {},
   "source": [
    "There are 10 different boroughs in Toronto"
   ]
  },
  {
   "cell_type": "markdown",
   "metadata": {},
   "source": [
    "**Let's see the distribution of neighborhoods in the different boroughs**"
   ]
  },
  {
   "cell_type": "code",
   "execution_count": 32,
   "metadata": {
    "scrolled": true
   },
   "outputs": [
    {
     "data": {
      "text/plain": [
       "Borough\n",
       "Central Toronto      9\n",
       "Downtown Toronto    19\n",
       "East Toronto         5\n",
       "East York            5\n",
       "Etobicoke           12\n",
       "Mississauga          1\n",
       "North York          20\n",
       "Scarborough         17\n",
       "West Toronto         6\n",
       "York                 5\n",
       "Name: Neighborhood, dtype: int64"
      ]
     },
     "execution_count": 32,
     "metadata": {},
     "output_type": "execute_result"
    }
   ],
   "source": [
    "boroughs = toronto_df.groupby(\"Borough\")[\"Neighborhood\"].count()\n",
    "boroughs"
   ]
  },
  {
   "cell_type": "markdown",
   "metadata": {},
   "source": [
    "Let's visualize the distribution using a horizontal barplot"
   ]
  },
  {
   "cell_type": "code",
   "execution_count": 33,
   "metadata": {},
   "outputs": [
    {
     "data": {
      "image/png": "[encoded data removed]",
      "text/plain": [
       "<Figure size 576x360 with 1 Axes>"
      ]
     },
     "metadata": {
      "needs_background": "light"
     },
     "output_type": "display_data"
    }
   ],
   "source": [
    "ax = plt.figure(figsize=(8, 5))\n",
    "plt.barh(boroughs.index, boroughs)\n",
    "plt.title(\"Bar chart showing the distribution of neighborhoods across Toronto boroughs\")\n",
    "plt.xlabel(\"Number of Neighborhoods\")\n",
    "plt.ylabel(\"Boroughs\")\n",
    "plt.show()"
   ]
  },
  {
   "cell_type": "markdown",
   "metadata": {},
   "source": [
    "It can be seen from the plot that North York, Downtown Toronto, Scarborough and Etobicoke have the most concentration of neighborhoods"
   ]
  },
  {
   "cell_type": "markdown",
   "metadata": {},
   "source": [
    "### Let's explore the neighborhoods in the York, North York and East York boroughs"
   ]
  },
  {
   "cell_type": "markdown",
   "metadata": {},
   "source": [
    "**Create a dataframe of the \"york\" boroughs**"
   ]
  },
  {
   "cell_type": "code",
   "execution_count": 34,
   "metadata": {},
   "outputs": [
    {
     "data": {
      "text/html": [
       "<div>\n",
       "<style scoped>\n",
       "    .dataframe tbody tr th:only-of-type {\n",
       "        vertical-align: middle;\n",
       "    }\n",
       "\n",
       "    .dataframe tbody tr th {\n",
       "        vertical-align: top;\n",
       "    }\n",
       "\n",
       "    .dataframe thead th {\n",
       "        text-align: right;\n",
       "    }\n",
       "</style>\n",
       "<table border=\"1\" class=\"dataframe\">\n",
       "  <thead>\n",
       "    <tr style=\"text-align: right;\">\n",
       "      <th></th>\n",
       "      <th>PostalCode</th>\n",
       "      <th>Borough</th>\n",
       "      <th>Neighborhood</th>\n",
       "      <th>Latitude</th>\n",
       "      <th>Longitude</th>\n",
       "    </tr>\n",
       "  </thead>\n",
       "  <tbody>\n",
       "    <tr>\n",
       "      <th>0</th>\n",
       "      <td>M3A</td>\n",
       "      <td>North York</td>\n",
       "      <td>Parkwoods</td>\n",
       "      <td>43.753259</td>\n",
       "      <td>-79.329656</td>\n",
       "    </tr>\n",
       "    <tr>\n",
       "      <th>1</th>\n",
       "      <td>M4A</td>\n",
       "      <td>North York</td>\n",
       "      <td>Victoria Village</td>\n",
       "      <td>43.725882</td>\n",
       "      <td>-79.315572</td>\n",
       "    </tr>\n",
       "    <tr>\n",
       "      <th>3</th>\n",
       "      <td>M6A</td>\n",
       "      <td>North York</td>\n",
       "      <td>Lawrence Manor, Lawrence Heights</td>\n",
       "      <td>43.718518</td>\n",
       "      <td>-79.464763</td>\n",
       "    </tr>\n",
       "    <tr>\n",
       "      <th>7</th>\n",
       "      <td>M3B</td>\n",
       "      <td>North York</td>\n",
       "      <td>Don Mills</td>\n",
       "      <td>43.745906</td>\n",
       "      <td>-79.352188</td>\n",
       "    </tr>\n",
       "    <tr>\n",
       "      <th>8</th>\n",
       "      <td>M4B</td>\n",
       "      <td>East York</td>\n",
       "      <td>Parkview Hill, Woodbine Gardens</td>\n",
       "      <td>43.706397</td>\n",
       "      <td>-79.309937</td>\n",
       "    </tr>\n",
       "  </tbody>\n",
       "</table>\n",
       "</div>"
      ],
      "text/plain": [
       "  PostalCode     Borough                      Neighborhood   Latitude  \\\n",
       "0        M3A  North York                         Parkwoods  43.753259   \n",
       "1        M4A  North York                  Victoria Village  43.725882   \n",
       "3        M6A  North York  Lawrence Manor, Lawrence Heights  43.718518   \n",
       "7        M3B  North York                         Don Mills  43.745906   \n",
       "8        M4B   East York   Parkview Hill, Woodbine Gardens  43.706397   \n",
       "\n",
       "   Longitude  \n",
       "0 -79.329656  \n",
       "1 -79.315572  \n",
       "3 -79.464763  \n",
       "7 -79.352188  \n",
       "8 -79.309937  "
      ]
     },
     "execution_count": 34,
     "metadata": {},
     "output_type": "execute_result"
    }
   ],
   "source": [
    "indexes = []\n",
    "for index, row in toronto_df.iterrows():\n",
    "    if row[\"Borough\"].endswith(\"York\"):\n",
    "        indexes.append(index)\n",
    "\n",
    "york_df = toronto_df.loc[indexes, :]\n",
    "york_df.head()"
   ]
  },
  {
   "cell_type": "markdown",
   "metadata": {},
   "source": [
    "How many neighborhoods are in the York boroughs?"
   ]
  },
  {
   "cell_type": "code",
   "execution_count": 35,
   "metadata": {},
   "outputs": [
    {
     "data": {
      "text/plain": [
       "(30, 5)"
      ]
     },
     "execution_count": 35,
     "metadata": {},
     "output_type": "execute_result"
    }
   ],
   "source": [
    "york_df.shape"
   ]
  },
  {
   "cell_type": "markdown",
   "metadata": {},
   "source": [
    "There are 30 different neighborhoods in the York boroughs"
   ]
  },
  {
   "cell_type": "markdown",
   "metadata": {},
   "source": [
    "**Now, let's visualize the neighborhoods on a map**"
   ]
  },
  {
   "cell_type": "code",
   "execution_count": 38,
   "metadata": {},
   "outputs": [],
   "source": [
    "address = \"York, Toronto, Canada\"\n",
    "locator = Nominatim(user_agent=\"ny_explorer\")\n",
    "location = locator.geocode(address)\n",
    "york_latitude = location.latitude\n",
    "york_longitude = location.longitude"
   ]
  },
  {
   "cell_type": "code",
   "execution_count": 39,
   "metadata": {
    "scrolled": false
   },
   "outputs": [
    {
     "data": {
      "text/html": [
       "<div style=\"width:100%;\"><div style=\"position:relative;width:100%;height:0;padding-bottom:60%;\"><span style=\"color:#565656\">Make this Notebook Trusted to load map: File -> Trust Notebook</span><iframe src=\"about:blank\" style=\"position:absolute;width:100%;height:100%;left:0;top:0;border:none !important;\" data-html=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 onload=\"this.contentDocument.open();this.contentDocument.write(atob(this.getAttribute('data-html')));this.contentDocument.close();\" allowfullscreen webkitallowfullscreen mozallowfullscreen></iframe></div></div>"
      ],
      "text/plain": [
       "<folium.folium.Map at 0x1c4ae1a8348>"
      ]
     },
     "execution_count": 39,
     "metadata": {},
     "output_type": "execute_result"
    }
   ],
   "source": [
    "york_map = folium.Map(location=[york_latitude, york_longitude], zoom_start=10)\n",
    "\n",
    "for lat, lng, label in zip(york_df[\"Latitude\"], york_df[\"Longitude\"], york_df[\"Neighborhood\"]):\n",
    "    label = folium.Popup(label, parse_html=True)\n",
    "    folium.CircleMarker(\n",
    "        [lat, lng],\n",
    "        radius=5,\n",
    "        popup=label,\n",
    "        color='blue',\n",
    "        fill=True,\n",
    "        fill_color='#3186cc',\n",
    "        fill_opacity=0.7,\n",
    "        parse_html=False).add_to(york_map)  \n",
    "\n",
    "york_map"
   ]
  },
  {
   "cell_type": "markdown",
   "metadata": {},
   "source": [
    "**Define Foursquare credentials and version**"
   ]
  },
  {
   "cell_type": "code",
   "execution_count": 40,
   "metadata": {},
   "outputs": [
    {
     "name": "stdout",
     "output_type": "stream",
     "text": [
      "Your credentials:\n",
      "CLIENT_ID: MHJUWL4WN3DUWTZZZUVXB4EELKI4315Z4QS4ZCKZK4YN2A30\n",
      "CLIENT_SECRET:CPD4MJ5AZXWBYQOUZVMOIYWUIJOJECHM54FLBXG12CHZF231\n"
     ]
    }
   ],
   "source": [
    "CLIENT_ID = \"MHJUWL4WN3DUWTZZZUVXB4EELKI4315Z4QS4ZCKZK4YN2A30\" # Foursquare ID\n",
    "CLIENT_SECRET = \"CPD4MJ5AZXWBYQOUZVMOIYWUIJOJECHM54FLBXG12CHZF231\" # Foursquare Secret\n",
    "VERSION = \"20180605\" # Foursquare API version\n",
    "\n",
    "print(\"Your credentials:\")\n",
    "print(\"CLIENT_ID: \" + CLIENT_ID)\n",
    "print(\"CLIENT_SECRET:\" + CLIENT_SECRET)"
   ]
  },
  {
   "cell_type": "markdown",
   "metadata": {},
   "source": [
    "### Let's explore the one of the neighborhoods in the York Boroughs"
   ]
  },
  {
   "cell_type": "markdown",
   "metadata": {},
   "source": [
    "**Get the neighborhood's name and coordinates**"
   ]
  },
  {
   "cell_type": "code",
   "execution_count": 41,
   "metadata": {},
   "outputs": [
    {
     "name": "stdout",
     "output_type": "stream",
     "text": [
      "Latitude and longitude values of Victoria Village are 43.725882299999995, -79.31557159999998\n"
     ]
    }
   ],
   "source": [
    "neighborhood_latitude = york_df.loc[1, \"Latitude\"] # neighborhood latitude value\n",
    "neighborhood_longitude = york_df.loc[1, \"Longitude\"] # neighborhood longitude value\n",
    "\n",
    "neighborhood_name = york_df.loc[1, \"Neighborhood\"] # neighborhood name\n",
    "\n",
    "print(f\"Latitude and longitude values of {neighborhood_name} are {neighborhood_latitude}, {neighborhood_longitude}\")"
   ]
  },
  {
   "cell_type": "markdown",
   "metadata": {},
   "source": [
    "**Let's get the top 50 venues within a 500 metres radius of the neighborhood** "
   ]
  },
  {
   "cell_type": "markdown",
   "metadata": {},
   "source": [
    "Make an explore call to the Foursquare API and get the results"
   ]
  },
  {
   "cell_type": "code",
   "execution_count": 42,
   "metadata": {},
   "outputs": [],
   "source": [
    "LIMIT = 50\n",
    "RADIUS = 500\n",
    "\n",
    "url = f\"https://api.foursquare.com/v2/venues/explore?client_id={CLIENT_ID}&client_secret={CLIENT_SECRET}\\\n",
    "&ll={neighborhood_latitude}, {neighborhood_longitude}&v={VERSION}&radius={RADIUS}&limit={LIMIT}\"\n",
    "\n",
    "results = requests.get(url).json()"
   ]
  },
  {
   "cell_type": "markdown",
   "metadata": {},
   "source": [
    "View the results of the explore call"
   ]
  },
  {
   "cell_type": "code",
   "execution_count": 43,
   "metadata": {
    "scrolled": false
   },
   "outputs": [
    {
     "data": {
      "text/plain": [
       "{'meta': {'code': 200, 'requestId': '5eedd4781187ee001b77d717'},\n",
       " 'response': {'headerLocation': 'Bermondsey',\n",
       "  'headerFullLocation': 'Bermondsey, Toronto',\n",
       "  'headerLocationGranularity': 'neighborhood',\n",
       "  'totalResults': 5,\n",
       "  'suggestedBounds': {'ne': {'lat': 43.7303823045, 'lng': -79.30935618239715},\n",
       "   'sw': {'lat': 43.72138229549999, 'lng': -79.32178701760282}},\n",
       "  'groups': [{'type': 'Recommended Places',\n",
       "    'name': 'recommended',\n",
       "    'items': [{'reasons': {'count': 0,\n",
       "       'items': [{'summary': 'This spot is popular',\n",
       "         'type': 'general',\n",
       "         'reasonName': 'globalInteractionReason'}]},\n",
       "      'venue': {'id': '4c633acb86b6be9a61268e34',\n",
       "       'name': 'Victoria Village Arena',\n",
       "       'location': {'lat': 43.72348055545508,\n",
       "        'lng': -79.31563520925143,\n",
       "        'labeledLatLngs': [{'label': 'display',\n",
       "          'lat': 43.72348055545508,\n",
       "          'lng': -79.31563520925143}],\n",
       "        'distance': 267,\n",
       "        'cc': 'CA',\n",
       "        'country': 'Canada',\n",
       "        'formattedAddress': ['Canada']},\n",
       "       'categories': [{'id': '4bf58dd8d48988d185941735',\n",
       "         'name': 'Hockey Arena',\n",
       "         'pluralName': 'Hockey Arenas',\n",
       "         'shortName': 'Hockey',\n",
       "         'icon': {'prefix': 'https://ss3.4sqi.net/img/categories_v2/arts_entertainment/stadium_hockey_',\n",
       "          'suffix': '.png'},\n",
       "         'primary': True}],\n",
       "       'photos': {'count': 0, 'groups': []}},\n",
       "      'referralId': 'e-0-4c633acb86b6be9a61268e34-0'},\n",
       "     {'reasons': {'count': 0,\n",
       "       'items': [{'summary': 'This spot is popular',\n",
       "         'type': 'general',\n",
       "         'reasonName': 'globalInteractionReason'}]},\n",
       "      'venue': {'id': '4f3ecce6e4b0587016b6f30d',\n",
       "       'name': 'Portugril',\n",
       "       'location': {'address': '1733 Eglinton Avenue East',\n",
       "        'crossStreet': 'Bermondsey',\n",
       "        'lat': 43.72581876267242,\n",
       "        'lng': -79.31278541470671,\n",
       "        'labeledLatLngs': [{'label': 'display',\n",
       "          'lat': 43.72581876267242,\n",
       "          'lng': -79.31278541470671}],\n",
       "        'distance': 224,\n",
       "        'cc': 'CA',\n",
       "        'city': 'Toronto',\n",
       "        'state': 'ON',\n",
       "        'country': 'Canada',\n",
       "        'formattedAddress': ['1733 Eglinton Avenue East (Bermondsey)',\n",
       "         'Toronto ON',\n",
       "         'Canada']},\n",
       "       'categories': [{'id': '4def73e84765ae376e57713a',\n",
       "         'name': 'Portuguese Restaurant',\n",
       "         'pluralName': 'Portuguese Restaurants',\n",
       "         'shortName': 'Portuguese',\n",
       "         'icon': {'prefix': 'https://ss3.4sqi.net/img/categories_v2/food/portuguese_',\n",
       "          'suffix': '.png'},\n",
       "         'primary': True}],\n",
       "       'photos': {'count': 0, 'groups': []}},\n",
       "      'referralId': 'e-0-4f3ecce6e4b0587016b6f30d-1'},\n",
       "     {'reasons': {'count': 0,\n",
       "       'items': [{'summary': 'This spot is popular',\n",
       "         'type': 'general',\n",
       "         'reasonName': 'globalInteractionReason'}]},\n",
       "      'venue': {'id': '4bbe904a85fbb713420d7167',\n",
       "       'name': 'Tim Hortons',\n",
       "       'location': {'address': '1733 Eglinton Ave East',\n",
       "        'crossStreet': 'at Bermondsey Rd',\n",
       "        'lat': 43.725516631714754,\n",
       "        'lng': -79.31310251366091,\n",
       "        'labeledLatLngs': [{'label': 'display',\n",
       "          'lat': 43.725516631714754,\n",
       "          'lng': -79.31310251366091}],\n",
       "        'distance': 202,\n",
       "        'postalCode': 'M4A 1J8',\n",
       "        'cc': 'CA',\n",
       "        'city': 'Toronto',\n",
       "        'state': 'ON',\n",
       "        'country': 'Canada',\n",
       "        'formattedAddress': ['1733 Eglinton Ave East (at Bermondsey Rd)',\n",
       "         'Toronto ON M4A 1J8',\n",
       "         'Canada']},\n",
       "       'categories': [{'id': '4bf58dd8d48988d1e0931735',\n",
       "         'name': 'Coffee Shop',\n",
       "         'pluralName': 'Coffee Shops',\n",
       "         'shortName': 'Coffee Shop',\n",
       "         'icon': {'prefix': 'https://ss3.4sqi.net/img/categories_v2/food/coffeeshop_',\n",
       "          'suffix': '.png'},\n",
       "         'primary': True}],\n",
       "       'photos': {'count': 0, 'groups': []}},\n",
       "      'referralId': 'e-0-4bbe904a85fbb713420d7167-2'},\n",
       "     {'reasons': {'count': 0,\n",
       "       'items': [{'summary': 'This spot is popular',\n",
       "         'type': 'general',\n",
       "         'reasonName': 'globalInteractionReason'}]},\n",
       "      'venue': {'id': '4d689350b6f46dcb77ee15b2',\n",
       "       'name': 'The Frig',\n",
       "       'location': {'lat': 43.72705130603407,\n",
       "        'lng': -79.31741760908679,\n",
       "        'labeledLatLngs': [{'label': 'display',\n",
       "          'lat': 43.72705130603407,\n",
       "          'lng': -79.31741760908679}],\n",
       "        'distance': 197,\n",
       "        'cc': 'CA',\n",
       "        'country': 'Canada',\n",
       "        'formattedAddress': ['Canada']},\n",
       "       'categories': [{'id': '4bf58dd8d48988d10c941735',\n",
       "         'name': 'French Restaurant',\n",
       "         'pluralName': 'French Restaurants',\n",
       "         'shortName': 'French',\n",
       "         'icon': {'prefix': 'https://ss3.4sqi.net/img/categories_v2/food/french_',\n",
       "          'suffix': '.png'},\n",
       "         'primary': True}],\n",
       "       'photos': {'count': 0, 'groups': []}},\n",
       "      'referralId': 'e-0-4d689350b6f46dcb77ee15b2-3'},\n",
       "     {'reasons': {'count': 0,\n",
       "       'items': [{'summary': 'This spot is popular',\n",
       "         'type': 'general',\n",
       "         'reasonName': 'globalInteractionReason'}]},\n",
       "      'venue': {'id': '4b8fe578f964a520106833e3',\n",
       "       'name': 'Pizza Nova',\n",
       "       'location': {'address': '1733 Eglinton Ave. E',\n",
       "        'crossStreet': 'at Bermondsey Rd.',\n",
       "        'lat': 43.725823726352196,\n",
       "        'lng': -79.31286041792907,\n",
       "        'labeledLatLngs': [{'label': 'display',\n",
       "          'lat': 43.725823726352196,\n",
       "          'lng': -79.31286041792907}],\n",
       "        'distance': 218,\n",
       "        'postalCode': 'M4A 1J8',\n",
       "        'cc': 'CA',\n",
       "        'city': 'Toronto',\n",
       "        'state': 'ON',\n",
       "        'country': 'Canada',\n",
       "        'formattedAddress': ['1733 Eglinton Ave. E (at Bermondsey Rd.)',\n",
       "         'Toronto ON M4A 1J8',\n",
       "         'Canada']},\n",
       "       'categories': [{'id': '4bf58dd8d48988d1ca941735',\n",
       "         'name': 'Pizza Place',\n",
       "         'pluralName': 'Pizza Places',\n",
       "         'shortName': 'Pizza',\n",
       "         'icon': {'prefix': 'https://ss3.4sqi.net/img/categories_v2/food/pizza_',\n",
       "          'suffix': '.png'},\n",
       "         'primary': True}],\n",
       "       'photos': {'count': 0, 'groups': []}},\n",
       "      'referralId': 'e-0-4b8fe578f964a520106833e3-4'}]}]}}"
      ]
     },
     "execution_count": 43,
     "metadata": {},
     "output_type": "execute_result"
    }
   ],
   "source": [
    "results"
   ]
  },
  {
   "cell_type": "markdown",
   "metadata": {},
   "source": [
    "The results in the above form do not make much sense so let's clean and process it into a more understandable form"
   ]
  },
  {
   "cell_type": "markdown",
   "metadata": {},
   "source": [
    "**Define a function that extracts the category of a venue**"
   ]
  },
  {
   "cell_type": "code",
   "execution_count": 44,
   "metadata": {},
   "outputs": [],
   "source": [
    "def get_category_type(row):\n",
    "    try:\n",
    "        categories_list = row[\"categories\"]\n",
    "    except:\n",
    "        categories_list = row[\"venue.categories\"]\n",
    "        \n",
    "    if len(categories_list) == 0:\n",
    "        return None\n",
    "    else:\n",
    "        return categories_list[0][\"name\"]"
   ]
  },
  {
   "cell_type": "markdown",
   "metadata": {},
   "source": [
    "**Clean and process the json file into a dataframe**"
   ]
  },
  {
   "cell_type": "code",
   "execution_count": 45,
   "metadata": {},
   "outputs": [],
   "source": [
    "venues = results[\"response\"][\"groups\"][0][\"items\"]\n",
    "    \n",
    "nearby_venues = json_normalize(venues) # flatten JSON\n",
    "\n",
    "# filter columns\n",
    "filtered_columns = [\"venue.name\", \"venue.categories\", \"venue.location.lat\", \"venue.location.lng\"]\n",
    "nearby_venues =nearby_venues.loc[:, filtered_columns]\n",
    "\n",
    "# filter the category for each row\n",
    "nearby_venues[\"venue.categories\"] = nearby_venues.apply(get_category_type, axis=1)\n",
    "\n",
    "# clean columns\n",
    "nearby_venues.columns = [col.split(\".\")[-1] for col in nearby_venues.columns]"
   ]
  },
  {
   "cell_type": "markdown",
   "metadata": {},
   "source": [
    "View the first few rows of the resulting dataframe"
   ]
  },
  {
   "cell_type": "code",
   "execution_count": 46,
   "metadata": {},
   "outputs": [
    {
     "data": {
      "text/html": [
       "<div>\n",
       "<style scoped>\n",
       "    .dataframe tbody tr th:only-of-type {\n",
       "        vertical-align: middle;\n",
       "    }\n",
       "\n",
       "    .dataframe tbody tr th {\n",
       "        vertical-align: top;\n",
       "    }\n",
       "\n",
       "    .dataframe thead th {\n",
       "        text-align: right;\n",
       "    }\n",
       "</style>\n",
       "<table border=\"1\" class=\"dataframe\">\n",
       "  <thead>\n",
       "    <tr style=\"text-align: right;\">\n",
       "      <th></th>\n",
       "      <th>name</th>\n",
       "      <th>categories</th>\n",
       "      <th>lat</th>\n",
       "      <th>lng</th>\n",
       "    </tr>\n",
       "  </thead>\n",
       "  <tbody>\n",
       "    <tr>\n",
       "      <th>0</th>\n",
       "      <td>Victoria Village Arena</td>\n",
       "      <td>Hockey Arena</td>\n",
       "      <td>43.723481</td>\n",
       "      <td>-79.315635</td>\n",
       "    </tr>\n",
       "    <tr>\n",
       "      <th>1</th>\n",
       "      <td>Portugril</td>\n",
       "      <td>Portuguese Restaurant</td>\n",
       "      <td>43.725819</td>\n",
       "      <td>-79.312785</td>\n",
       "    </tr>\n",
       "    <tr>\n",
       "      <th>2</th>\n",
       "      <td>Tim Hortons</td>\n",
       "      <td>Coffee Shop</td>\n",
       "      <td>43.725517</td>\n",
       "      <td>-79.313103</td>\n",
       "    </tr>\n",
       "    <tr>\n",
       "      <th>3</th>\n",
       "      <td>The Frig</td>\n",
       "      <td>French Restaurant</td>\n",
       "      <td>43.727051</td>\n",
       "      <td>-79.317418</td>\n",
       "    </tr>\n",
       "    <tr>\n",
       "      <th>4</th>\n",
       "      <td>Pizza Nova</td>\n",
       "      <td>Pizza Place</td>\n",
       "      <td>43.725824</td>\n",
       "      <td>-79.312860</td>\n",
       "    </tr>\n",
       "  </tbody>\n",
       "</table>\n",
       "</div>"
      ],
      "text/plain": [
       "                     name             categories        lat        lng\n",
       "0  Victoria Village Arena           Hockey Arena  43.723481 -79.315635\n",
       "1               Portugril  Portuguese Restaurant  43.725819 -79.312785\n",
       "2             Tim Hortons            Coffee Shop  43.725517 -79.313103\n",
       "3                The Frig      French Restaurant  43.727051 -79.317418\n",
       "4              Pizza Nova            Pizza Place  43.725824 -79.312860"
      ]
     },
     "execution_count": 46,
     "metadata": {},
     "output_type": "execute_result"
    }
   ],
   "source": [
    "nearby_venues.head()"
   ]
  },
  {
   "cell_type": "markdown",
   "metadata": {},
   "source": [
    "How many venues were returned for Victoria Village?"
   ]
  },
  {
   "cell_type": "code",
   "execution_count": 47,
   "metadata": {},
   "outputs": [
    {
     "data": {
      "text/plain": [
       "5"
      ]
     },
     "execution_count": 47,
     "metadata": {},
     "output_type": "execute_result"
    }
   ],
   "source": [
    "nearby_venues.shape[0]"
   ]
  },
  {
   "cell_type": "markdown",
   "metadata": {},
   "source": [
    "5 venues were returned for Victoria Village by Foursquare"
   ]
  },
  {
   "cell_type": "markdown",
   "metadata": {},
   "source": [
    "**Now, let's create and apply a function to return the venues for all neighborhoods in York**"
   ]
  },
  {
   "cell_type": "code",
   "execution_count": 70,
   "metadata": {},
   "outputs": [],
   "source": [
    "def getNearbyVenues(names, latitudes, longitudes):\n",
    "    radius = 500\n",
    "    LIMIT = 50\n",
    "    venues_list=[]\n",
    "    for name, lat, lng in zip(names, latitudes, longitudes):\n",
    "            \n",
    "        # create the API request URL\n",
    "        url = f\"https://api.foursquare.com/v2/venues/explore?client_id={CLIENT_ID}&client_secret={CLIENT_SECRET}\\\n",
    "        &ll={lat}, {lng}&v={VERSION}&radius={RADIUS}&limit={LIMIT}\"\n",
    "            \n",
    "        # make the GET request\n",
    "        results = requests.get(url).json()[\"response\"][\"groups\"][0][\"items\"]\n",
    "        \n",
    "        # return only relevant information for each nearby venue\n",
    "        venues_list.append([(\n",
    "            name, \n",
    "            lat, \n",
    "            lng, \n",
    "            v[\"venue\"][\"name\"], \n",
    "            v[\"venue\"][\"location\"][\"lat\"], \n",
    "            v[\"venue\"][\"location\"][\"lng\"],  \n",
    "            v[\"venue\"][\"categories\"][0][\"name\"]) for v in results])\n",
    "\n",
    "    nearby_venues = pd.DataFrame([item for venue_list in venues_list for item in venue_list])\n",
    "    nearby_venues.columns = [\"Neighborhood\", \n",
    "                  \"Neighborhood Latitude\", \n",
    "                  \"Neighborhood Longitude\", \n",
    "                  \"Venue\", \n",
    "                  \"Venue Latitude\", \n",
    "                  \"Venue Longitude\", \n",
    "                  \"Venue Category\"]\n",
    "    \n",
    "    return(nearby_venues)"
   ]
  },
  {
   "cell_type": "code",
   "execution_count": 74,
   "metadata": {},
   "outputs": [],
   "source": [
    "york_venues = getNearbyVenues(york_df[\"Neighborhood\"], york_df[\"Latitude\"], york_df[\"Longitude\"])"
   ]
  },
  {
   "cell_type": "markdown",
   "metadata": {},
   "source": [
    "**Let's view the first few rows of the resulting dataframe**"
   ]
  },
  {
   "cell_type": "code",
   "execution_count": 75,
   "metadata": {},
   "outputs": [
    {
     "data": {
      "text/html": [
       "<div>\n",
       "<style scoped>\n",
       "    .dataframe tbody tr th:only-of-type {\n",
       "        vertical-align: middle;\n",
       "    }\n",
       "\n",
       "    .dataframe tbody tr th {\n",
       "        vertical-align: top;\n",
       "    }\n",
       "\n",
       "    .dataframe thead th {\n",
       "        text-align: right;\n",
       "    }\n",
       "</style>\n",
       "<table border=\"1\" class=\"dataframe\">\n",
       "  <thead>\n",
       "    <tr style=\"text-align: right;\">\n",
       "      <th></th>\n",
       "      <th>Neighborhood</th>\n",
       "      <th>Neighborhood Latitude</th>\n",
       "      <th>Neighborhood Longitude</th>\n",
       "      <th>Venue</th>\n",
       "      <th>Venue Latitude</th>\n",
       "      <th>Venue Longitude</th>\n",
       "      <th>Venue Category</th>\n",
       "    </tr>\n",
       "  </thead>\n",
       "  <tbody>\n",
       "    <tr>\n",
       "      <th>0</th>\n",
       "      <td>Parkwoods</td>\n",
       "      <td>43.753259</td>\n",
       "      <td>-79.329656</td>\n",
       "      <td>Brookbanks Park</td>\n",
       "      <td>43.751976</td>\n",
       "      <td>-79.332140</td>\n",
       "      <td>Park</td>\n",
       "    </tr>\n",
       "    <tr>\n",
       "      <th>1</th>\n",
       "      <td>Parkwoods</td>\n",
       "      <td>43.753259</td>\n",
       "      <td>-79.329656</td>\n",
       "      <td>Variety Store</td>\n",
       "      <td>43.751974</td>\n",
       "      <td>-79.333114</td>\n",
       "      <td>Food &amp; Drink Shop</td>\n",
       "    </tr>\n",
       "    <tr>\n",
       "      <th>2</th>\n",
       "      <td>Parkwoods</td>\n",
       "      <td>43.753259</td>\n",
       "      <td>-79.329656</td>\n",
       "      <td>Corrosion Service Company Limited</td>\n",
       "      <td>43.752432</td>\n",
       "      <td>-79.334661</td>\n",
       "      <td>Construction &amp; Landscaping</td>\n",
       "    </tr>\n",
       "    <tr>\n",
       "      <th>3</th>\n",
       "      <td>Victoria Village</td>\n",
       "      <td>43.725882</td>\n",
       "      <td>-79.315572</td>\n",
       "      <td>Victoria Village Arena</td>\n",
       "      <td>43.723481</td>\n",
       "      <td>-79.315635</td>\n",
       "      <td>Hockey Arena</td>\n",
       "    </tr>\n",
       "    <tr>\n",
       "      <th>4</th>\n",
       "      <td>Victoria Village</td>\n",
       "      <td>43.725882</td>\n",
       "      <td>-79.315572</td>\n",
       "      <td>Portugril</td>\n",
       "      <td>43.725819</td>\n",
       "      <td>-79.312785</td>\n",
       "      <td>Portuguese Restaurant</td>\n",
       "    </tr>\n",
       "  </tbody>\n",
       "</table>\n",
       "</div>"
      ],
      "text/plain": [
       "       Neighborhood  Neighborhood Latitude  Neighborhood Longitude  \\\n",
       "0         Parkwoods              43.753259              -79.329656   \n",
       "1         Parkwoods              43.753259              -79.329656   \n",
       "2         Parkwoods              43.753259              -79.329656   \n",
       "3  Victoria Village              43.725882              -79.315572   \n",
       "4  Victoria Village              43.725882              -79.315572   \n",
       "\n",
       "                               Venue  Venue Latitude  Venue Longitude  \\\n",
       "0                    Brookbanks Park       43.751976       -79.332140   \n",
       "1                      Variety Store       43.751974       -79.333114   \n",
       "2  Corrosion Service Company Limited       43.752432       -79.334661   \n",
       "3             Victoria Village Arena       43.723481       -79.315635   \n",
       "4                          Portugril       43.725819       -79.312785   \n",
       "\n",
       "               Venue Category  \n",
       "0                        Park  \n",
       "1           Food & Drink Shop  \n",
       "2  Construction & Landscaping  \n",
       "3                Hockey Arena  \n",
       "4       Portuguese Restaurant  "
      ]
     },
     "execution_count": 75,
     "metadata": {},
     "output_type": "execute_result"
    }
   ],
   "source": [
    "york_venues.head()"
   ]
  },
  {
   "cell_type": "markdown",
   "metadata": {},
   "source": [
    "**Check how many venues were returned by the Foursquare API**"
   ]
  },
  {
   "cell_type": "code",
   "execution_count": 76,
   "metadata": {
    "scrolled": true
   },
   "outputs": [
    {
     "data": {
      "text/plain": [
       "(289, 7)"
      ]
     },
     "execution_count": 76,
     "metadata": {},
     "output_type": "execute_result"
    }
   ],
   "source": [
    "york_venues.shape"
   ]
  },
  {
   "cell_type": "markdown",
   "metadata": {},
   "source": [
    "**How many unique venue categories are there?**"
   ]
  },
  {
   "cell_type": "code",
   "execution_count": 77,
   "metadata": {},
   "outputs": [
    {
     "data": {
      "text/plain": [
       "119"
      ]
     },
     "execution_count": 77,
     "metadata": {},
     "output_type": "execute_result"
    }
   ],
   "source": [
    "len(york_venues[\"Venue Category\"].unique())"
   ]
  },
  {
   "cell_type": "markdown",
   "metadata": {},
   "source": [
    "There are 123 unique venue categories"
   ]
  },
  {
   "cell_type": "markdown",
   "metadata": {},
   "source": [
    "\n"
   ]
  },
  {
   "cell_type": "markdown",
   "metadata": {},
   "source": [
    "**Check the top 5 neighborhoods with the most venues**"
   ]
  },
  {
   "cell_type": "code",
   "execution_count": 81,
   "metadata": {
    "scrolled": true
   },
   "outputs": [
    {
     "data": {
      "text/plain": [
       "Neighborhood\n",
       "Fairview, Henry Farm, Oriole                       50\n",
       "Willowdale, Willowdale East                        34\n",
       "Leaside                                            32\n",
       "Bedford Park, Lawrence Manor East                  24\n",
       "Bathurst Manor, Wilson Heights, Downsview North    22\n",
       "Name: Venue, dtype: int64"
      ]
     },
     "execution_count": 81,
     "metadata": {},
     "output_type": "execute_result"
    }
   ],
   "source": [
    "york_venues.groupby(\"Neighborhood\")[\"Venue\"].count().sort_values(ascending=False)[:5]"
   ]
  },
  {
   "cell_type": "markdown",
   "metadata": {},
   "source": [
    "\n",
    "\n",
    "\n",
    "\n",
    "\n",
    "\n",
    "\n",
    "\n"
   ]
  },
  {
   "cell_type": "markdown",
   "metadata": {},
   "source": [
    "**Create dummy variables for each unique category**"
   ]
  },
  {
   "cell_type": "code",
   "execution_count": 82,
   "metadata": {},
   "outputs": [
    {
     "data": {
      "text/html": [
       "<div>\n",
       "<style scoped>\n",
       "    .dataframe tbody tr th:only-of-type {\n",
       "        vertical-align: middle;\n",
       "    }\n",
       "\n",
       "    .dataframe tbody tr th {\n",
       "        vertical-align: top;\n",
       "    }\n",
       "\n",
       "    .dataframe thead th {\n",
       "        text-align: right;\n",
       "    }\n",
       "</style>\n",
       "<table border=\"1\" class=\"dataframe\">\n",
       "  <thead>\n",
       "    <tr style=\"text-align: right;\">\n",
       "      <th></th>\n",
       "      <th>Accessories Store</th>\n",
       "      <th>Airport</th>\n",
       "      <th>American Restaurant</th>\n",
       "      <th>Arts &amp; Crafts Store</th>\n",
       "      <th>Asian Restaurant</th>\n",
       "      <th>Athletics &amp; Sports</th>\n",
       "      <th>Bagel Shop</th>\n",
       "      <th>Bakery</th>\n",
       "      <th>Bank</th>\n",
       "      <th>Bar</th>\n",
       "      <th>...</th>\n",
       "      <th>Thai Restaurant</th>\n",
       "      <th>Theater</th>\n",
       "      <th>Toy / Game Store</th>\n",
       "      <th>Trail</th>\n",
       "      <th>Turkish Restaurant</th>\n",
       "      <th>Video Game Store</th>\n",
       "      <th>Vietnamese Restaurant</th>\n",
       "      <th>Warehouse Store</th>\n",
       "      <th>Women's Store</th>\n",
       "      <th>Yoga Studio</th>\n",
       "    </tr>\n",
       "  </thead>\n",
       "  <tbody>\n",
       "    <tr>\n",
       "      <th>0</th>\n",
       "      <td>0</td>\n",
       "      <td>0</td>\n",
       "      <td>0</td>\n",
       "      <td>0</td>\n",
       "      <td>0</td>\n",
       "      <td>0</td>\n",
       "      <td>0</td>\n",
       "      <td>0</td>\n",
       "      <td>0</td>\n",
       "      <td>0</td>\n",
       "      <td>...</td>\n",
       "      <td>0</td>\n",
       "      <td>0</td>\n",
       "      <td>0</td>\n",
       "      <td>0</td>\n",
       "      <td>0</td>\n",
       "      <td>0</td>\n",
       "      <td>0</td>\n",
       "      <td>0</td>\n",
       "      <td>0</td>\n",
       "      <td>0</td>\n",
       "    </tr>\n",
       "    <tr>\n",
       "      <th>1</th>\n",
       "      <td>0</td>\n",
       "      <td>0</td>\n",
       "      <td>0</td>\n",
       "      <td>0</td>\n",
       "      <td>0</td>\n",
       "      <td>0</td>\n",
       "      <td>0</td>\n",
       "      <td>0</td>\n",
       "      <td>0</td>\n",
       "      <td>0</td>\n",
       "      <td>...</td>\n",
       "      <td>0</td>\n",
       "      <td>0</td>\n",
       "      <td>0</td>\n",
       "      <td>0</td>\n",
       "      <td>0</td>\n",
       "      <td>0</td>\n",
       "      <td>0</td>\n",
       "      <td>0</td>\n",
       "      <td>0</td>\n",
       "      <td>0</td>\n",
       "    </tr>\n",
       "    <tr>\n",
       "      <th>2</th>\n",
       "      <td>0</td>\n",
       "      <td>0</td>\n",
       "      <td>0</td>\n",
       "      <td>0</td>\n",
       "      <td>0</td>\n",
       "      <td>0</td>\n",
       "      <td>0</td>\n",
       "      <td>0</td>\n",
       "      <td>0</td>\n",
       "      <td>0</td>\n",
       "      <td>...</td>\n",
       "      <td>0</td>\n",
       "      <td>0</td>\n",
       "      <td>0</td>\n",
       "      <td>0</td>\n",
       "      <td>0</td>\n",
       "      <td>0</td>\n",
       "      <td>0</td>\n",
       "      <td>0</td>\n",
       "      <td>0</td>\n",
       "      <td>0</td>\n",
       "    </tr>\n",
       "    <tr>\n",
       "      <th>3</th>\n",
       "      <td>0</td>\n",
       "      <td>0</td>\n",
       "      <td>0</td>\n",
       "      <td>0</td>\n",
       "      <td>0</td>\n",
       "      <td>0</td>\n",
       "      <td>0</td>\n",
       "      <td>0</td>\n",
       "      <td>0</td>\n",
       "      <td>0</td>\n",
       "      <td>...</td>\n",
       "      <td>0</td>\n",
       "      <td>0</td>\n",
       "      <td>0</td>\n",
       "      <td>0</td>\n",
       "      <td>0</td>\n",
       "      <td>0</td>\n",
       "      <td>0</td>\n",
       "      <td>0</td>\n",
       "      <td>0</td>\n",
       "      <td>0</td>\n",
       "    </tr>\n",
       "    <tr>\n",
       "      <th>4</th>\n",
       "      <td>0</td>\n",
       "      <td>0</td>\n",
       "      <td>0</td>\n",
       "      <td>0</td>\n",
       "      <td>0</td>\n",
       "      <td>0</td>\n",
       "      <td>0</td>\n",
       "      <td>0</td>\n",
       "      <td>0</td>\n",
       "      <td>0</td>\n",
       "      <td>...</td>\n",
       "      <td>0</td>\n",
       "      <td>0</td>\n",
       "      <td>0</td>\n",
       "      <td>0</td>\n",
       "      <td>0</td>\n",
       "      <td>0</td>\n",
       "      <td>0</td>\n",
       "      <td>0</td>\n",
       "      <td>0</td>\n",
       "      <td>0</td>\n",
       "    </tr>\n",
       "  </tbody>\n",
       "</table>\n",
       "<p>5 rows × 119 columns</p>\n",
       "</div>"
      ],
      "text/plain": [
       "   Accessories Store  Airport  American Restaurant  Arts & Crafts Store  \\\n",
       "0                  0        0                    0                    0   \n",
       "1                  0        0                    0                    0   \n",
       "2                  0        0                    0                    0   \n",
       "3                  0        0                    0                    0   \n",
       "4                  0        0                    0                    0   \n",
       "\n",
       "   Asian Restaurant  Athletics & Sports  Bagel Shop  Bakery  Bank  Bar  ...  \\\n",
       "0                 0                   0           0       0     0    0  ...   \n",
       "1                 0                   0           0       0     0    0  ...   \n",
       "2                 0                   0           0       0     0    0  ...   \n",
       "3                 0                   0           0       0     0    0  ...   \n",
       "4                 0                   0           0       0     0    0  ...   \n",
       "\n",
       "   Thai Restaurant  Theater  Toy / Game Store  Trail  Turkish Restaurant  \\\n",
       "0                0        0                 0      0                   0   \n",
       "1                0        0                 0      0                   0   \n",
       "2                0        0                 0      0                   0   \n",
       "3                0        0                 0      0                   0   \n",
       "4                0        0                 0      0                   0   \n",
       "\n",
       "   Video Game Store  Vietnamese Restaurant  Warehouse Store  Women's Store  \\\n",
       "0                 0                      0                0              0   \n",
       "1                 0                      0                0              0   \n",
       "2                 0                      0                0              0   \n",
       "3                 0                      0                0              0   \n",
       "4                 0                      0                0              0   \n",
       "\n",
       "   Yoga Studio  \n",
       "0            0  \n",
       "1            0  \n",
       "2            0  \n",
       "3            0  \n",
       "4            0  \n",
       "\n",
       "[5 rows x 119 columns]"
      ]
     },
     "execution_count": 82,
     "metadata": {},
     "output_type": "execute_result"
    }
   ],
   "source": [
    "categories = pd.get_dummies(york_venues[\"Venue Category\"])\n",
    "categories.head()"
   ]
  },
  {
   "cell_type": "markdown",
   "metadata": {},
   "source": [
    "\n"
   ]
  },
  {
   "cell_type": "markdown",
   "metadata": {},
   "source": [
    "Add a **Neighborhood** column to the **categories** dataframe"
   ]
  },
  {
   "cell_type": "code",
   "execution_count": 83,
   "metadata": {
    "scrolled": true
   },
   "outputs": [
    {
     "data": {
      "text/html": [
       "<div>\n",
       "<style scoped>\n",
       "    .dataframe tbody tr th:only-of-type {\n",
       "        vertical-align: middle;\n",
       "    }\n",
       "\n",
       "    .dataframe tbody tr th {\n",
       "        vertical-align: top;\n",
       "    }\n",
       "\n",
       "    .dataframe thead th {\n",
       "        text-align: right;\n",
       "    }\n",
       "</style>\n",
       "<table border=\"1\" class=\"dataframe\">\n",
       "  <thead>\n",
       "    <tr style=\"text-align: right;\">\n",
       "      <th></th>\n",
       "      <th>Neighborhood</th>\n",
       "      <th>Accessories Store</th>\n",
       "      <th>Airport</th>\n",
       "      <th>American Restaurant</th>\n",
       "      <th>Arts &amp; Crafts Store</th>\n",
       "      <th>Asian Restaurant</th>\n",
       "      <th>Athletics &amp; Sports</th>\n",
       "      <th>Bagel Shop</th>\n",
       "      <th>Bakery</th>\n",
       "      <th>Bank</th>\n",
       "      <th>...</th>\n",
       "      <th>Thai Restaurant</th>\n",
       "      <th>Theater</th>\n",
       "      <th>Toy / Game Store</th>\n",
       "      <th>Trail</th>\n",
       "      <th>Turkish Restaurant</th>\n",
       "      <th>Video Game Store</th>\n",
       "      <th>Vietnamese Restaurant</th>\n",
       "      <th>Warehouse Store</th>\n",
       "      <th>Women's Store</th>\n",
       "      <th>Yoga Studio</th>\n",
       "    </tr>\n",
       "  </thead>\n",
       "  <tbody>\n",
       "    <tr>\n",
       "      <th>0</th>\n",
       "      <td>Parkwoods</td>\n",
       "      <td>0</td>\n",
       "      <td>0</td>\n",
       "      <td>0</td>\n",
       "      <td>0</td>\n",
       "      <td>0</td>\n",
       "      <td>0</td>\n",
       "      <td>0</td>\n",
       "      <td>0</td>\n",
       "      <td>0</td>\n",
       "      <td>...</td>\n",
       "      <td>0</td>\n",
       "      <td>0</td>\n",
       "      <td>0</td>\n",
       "      <td>0</td>\n",
       "      <td>0</td>\n",
       "      <td>0</td>\n",
       "      <td>0</td>\n",
       "      <td>0</td>\n",
       "      <td>0</td>\n",
       "      <td>0</td>\n",
       "    </tr>\n",
       "    <tr>\n",
       "      <th>1</th>\n",
       "      <td>Parkwoods</td>\n",
       "      <td>0</td>\n",
       "      <td>0</td>\n",
       "      <td>0</td>\n",
       "      <td>0</td>\n",
       "      <td>0</td>\n",
       "      <td>0</td>\n",
       "      <td>0</td>\n",
       "      <td>0</td>\n",
       "      <td>0</td>\n",
       "      <td>...</td>\n",
       "      <td>0</td>\n",
       "      <td>0</td>\n",
       "      <td>0</td>\n",
       "      <td>0</td>\n",
       "      <td>0</td>\n",
       "      <td>0</td>\n",
       "      <td>0</td>\n",
       "      <td>0</td>\n",
       "      <td>0</td>\n",
       "      <td>0</td>\n",
       "    </tr>\n",
       "    <tr>\n",
       "      <th>2</th>\n",
       "      <td>Parkwoods</td>\n",
       "      <td>0</td>\n",
       "      <td>0</td>\n",
       "      <td>0</td>\n",
       "      <td>0</td>\n",
       "      <td>0</td>\n",
       "      <td>0</td>\n",
       "      <td>0</td>\n",
       "      <td>0</td>\n",
       "      <td>0</td>\n",
       "      <td>...</td>\n",
       "      <td>0</td>\n",
       "      <td>0</td>\n",
       "      <td>0</td>\n",
       "      <td>0</td>\n",
       "      <td>0</td>\n",
       "      <td>0</td>\n",
       "      <td>0</td>\n",
       "      <td>0</td>\n",
       "      <td>0</td>\n",
       "      <td>0</td>\n",
       "    </tr>\n",
       "    <tr>\n",
       "      <th>3</th>\n",
       "      <td>Victoria Village</td>\n",
       "      <td>0</td>\n",
       "      <td>0</td>\n",
       "      <td>0</td>\n",
       "      <td>0</td>\n",
       "      <td>0</td>\n",
       "      <td>0</td>\n",
       "      <td>0</td>\n",
       "      <td>0</td>\n",
       "      <td>0</td>\n",
       "      <td>...</td>\n",
       "      <td>0</td>\n",
       "      <td>0</td>\n",
       "      <td>0</td>\n",
       "      <td>0</td>\n",
       "      <td>0</td>\n",
       "      <td>0</td>\n",
       "      <td>0</td>\n",
       "      <td>0</td>\n",
       "      <td>0</td>\n",
       "      <td>0</td>\n",
       "    </tr>\n",
       "    <tr>\n",
       "      <th>4</th>\n",
       "      <td>Victoria Village</td>\n",
       "      <td>0</td>\n",
       "      <td>0</td>\n",
       "      <td>0</td>\n",
       "      <td>0</td>\n",
       "      <td>0</td>\n",
       "      <td>0</td>\n",
       "      <td>0</td>\n",
       "      <td>0</td>\n",
       "      <td>0</td>\n",
       "      <td>...</td>\n",
       "      <td>0</td>\n",
       "      <td>0</td>\n",
       "      <td>0</td>\n",
       "      <td>0</td>\n",
       "      <td>0</td>\n",
       "      <td>0</td>\n",
       "      <td>0</td>\n",
       "      <td>0</td>\n",
       "      <td>0</td>\n",
       "      <td>0</td>\n",
       "    </tr>\n",
       "  </tbody>\n",
       "</table>\n",
       "<p>5 rows × 120 columns</p>\n",
       "</div>"
      ],
      "text/plain": [
       "       Neighborhood  Accessories Store  Airport  American Restaurant  \\\n",
       "0         Parkwoods                  0        0                    0   \n",
       "1         Parkwoods                  0        0                    0   \n",
       "2         Parkwoods                  0        0                    0   \n",
       "3  Victoria Village                  0        0                    0   \n",
       "4  Victoria Village                  0        0                    0   \n",
       "\n",
       "   Arts & Crafts Store  Asian Restaurant  Athletics & Sports  Bagel Shop  \\\n",
       "0                    0                 0                   0           0   \n",
       "1                    0                 0                   0           0   \n",
       "2                    0                 0                   0           0   \n",
       "3                    0                 0                   0           0   \n",
       "4                    0                 0                   0           0   \n",
       "\n",
       "   Bakery  Bank  ...  Thai Restaurant  Theater  Toy / Game Store  Trail  \\\n",
       "0       0     0  ...                0        0                 0      0   \n",
       "1       0     0  ...                0        0                 0      0   \n",
       "2       0     0  ...                0        0                 0      0   \n",
       "3       0     0  ...                0        0                 0      0   \n",
       "4       0     0  ...                0        0                 0      0   \n",
       "\n",
       "   Turkish Restaurant  Video Game Store  Vietnamese Restaurant  \\\n",
       "0                   0                 0                      0   \n",
       "1                   0                 0                      0   \n",
       "2                   0                 0                      0   \n",
       "3                   0                 0                      0   \n",
       "4                   0                 0                      0   \n",
       "\n",
       "   Warehouse Store  Women's Store  Yoga Studio  \n",
       "0                0              0            0  \n",
       "1                0              0            0  \n",
       "2                0              0            0  \n",
       "3                0              0            0  \n",
       "4                0              0            0  \n",
       "\n",
       "[5 rows x 120 columns]"
      ]
     },
     "execution_count": 83,
     "metadata": {},
     "output_type": "execute_result"
    }
   ],
   "source": [
    "current_columns = categories.columns.to_list()\n",
    "categories[\"Neighborhood\"] = york_venues[\"Neighborhood\"]\n",
    "categories = categories[[\"Neighborhood\"] + current_columns]\n",
    "categories.head()"
   ]
  },
  {
   "cell_type": "code",
   "execution_count": 84,
   "metadata": {},
   "outputs": [
    {
     "data": {
      "text/plain": [
       "(289, 120)"
      ]
     },
     "execution_count": 84,
     "metadata": {},
     "output_type": "execute_result"
    }
   ],
   "source": [
    "categories.shape"
   ]
  },
  {
   "cell_type": "markdown",
   "metadata": {},
   "source": [
    "\n"
   ]
  },
  {
   "cell_type": "markdown",
   "metadata": {},
   "source": [
    "**Let's group the dataframe by Neighborhood and take the mean of each category**"
   ]
  },
  {
   "cell_type": "code",
   "execution_count": 85,
   "metadata": {},
   "outputs": [
    {
     "data": {
      "text/html": [
       "<div>\n",
       "<style scoped>\n",
       "    .dataframe tbody tr th:only-of-type {\n",
       "        vertical-align: middle;\n",
       "    }\n",
       "\n",
       "    .dataframe tbody tr th {\n",
       "        vertical-align: top;\n",
       "    }\n",
       "\n",
       "    .dataframe thead th {\n",
       "        text-align: right;\n",
       "    }\n",
       "</style>\n",
       "<table border=\"1\" class=\"dataframe\">\n",
       "  <thead>\n",
       "    <tr style=\"text-align: right;\">\n",
       "      <th></th>\n",
       "      <th>Neighborhood</th>\n",
       "      <th>Accessories Store</th>\n",
       "      <th>Airport</th>\n",
       "      <th>American Restaurant</th>\n",
       "      <th>Arts &amp; Crafts Store</th>\n",
       "      <th>Asian Restaurant</th>\n",
       "      <th>Athletics &amp; Sports</th>\n",
       "      <th>Bagel Shop</th>\n",
       "      <th>Bakery</th>\n",
       "      <th>Bank</th>\n",
       "      <th>...</th>\n",
       "      <th>Thai Restaurant</th>\n",
       "      <th>Theater</th>\n",
       "      <th>Toy / Game Store</th>\n",
       "      <th>Trail</th>\n",
       "      <th>Turkish Restaurant</th>\n",
       "      <th>Video Game Store</th>\n",
       "      <th>Vietnamese Restaurant</th>\n",
       "      <th>Warehouse Store</th>\n",
       "      <th>Women's Store</th>\n",
       "      <th>Yoga Studio</th>\n",
       "    </tr>\n",
       "  </thead>\n",
       "  <tbody>\n",
       "    <tr>\n",
       "      <th>0</th>\n",
       "      <td>Bathurst Manor, Wilson Heights, Downsview North</td>\n",
       "      <td>0.0</td>\n",
       "      <td>0.0</td>\n",
       "      <td>0.0000</td>\n",
       "      <td>0.0</td>\n",
       "      <td>0.0</td>\n",
       "      <td>0.0</td>\n",
       "      <td>0.0</td>\n",
       "      <td>0.0</td>\n",
       "      <td>0.0909</td>\n",
       "      <td>...</td>\n",
       "      <td>0.0000</td>\n",
       "      <td>0.0</td>\n",
       "      <td>0.0000</td>\n",
       "      <td>0.0</td>\n",
       "      <td>0.0</td>\n",
       "      <td>0.0</td>\n",
       "      <td>0.0</td>\n",
       "      <td>0.0</td>\n",
       "      <td>0.00</td>\n",
       "      <td>0.0</td>\n",
       "    </tr>\n",
       "    <tr>\n",
       "      <th>1</th>\n",
       "      <td>Bayview Village</td>\n",
       "      <td>0.0</td>\n",
       "      <td>0.0</td>\n",
       "      <td>0.0000</td>\n",
       "      <td>0.0</td>\n",
       "      <td>0.0</td>\n",
       "      <td>0.0</td>\n",
       "      <td>0.0</td>\n",
       "      <td>0.0</td>\n",
       "      <td>0.2500</td>\n",
       "      <td>...</td>\n",
       "      <td>0.0000</td>\n",
       "      <td>0.0</td>\n",
       "      <td>0.0000</td>\n",
       "      <td>0.0</td>\n",
       "      <td>0.0</td>\n",
       "      <td>0.0</td>\n",
       "      <td>0.0</td>\n",
       "      <td>0.0</td>\n",
       "      <td>0.00</td>\n",
       "      <td>0.0</td>\n",
       "    </tr>\n",
       "    <tr>\n",
       "      <th>2</th>\n",
       "      <td>Bedford Park, Lawrence Manor East</td>\n",
       "      <td>0.0</td>\n",
       "      <td>0.0</td>\n",
       "      <td>0.0417</td>\n",
       "      <td>0.0</td>\n",
       "      <td>0.0</td>\n",
       "      <td>0.0</td>\n",
       "      <td>0.0</td>\n",
       "      <td>0.0</td>\n",
       "      <td>0.0000</td>\n",
       "      <td>...</td>\n",
       "      <td>0.0417</td>\n",
       "      <td>0.0</td>\n",
       "      <td>0.0417</td>\n",
       "      <td>0.0</td>\n",
       "      <td>0.0</td>\n",
       "      <td>0.0</td>\n",
       "      <td>0.0</td>\n",
       "      <td>0.0</td>\n",
       "      <td>0.00</td>\n",
       "      <td>0.0</td>\n",
       "    </tr>\n",
       "    <tr>\n",
       "      <th>3</th>\n",
       "      <td>Caledonia-Fairbanks</td>\n",
       "      <td>0.0</td>\n",
       "      <td>0.0</td>\n",
       "      <td>0.0000</td>\n",
       "      <td>0.0</td>\n",
       "      <td>0.0</td>\n",
       "      <td>0.0</td>\n",
       "      <td>0.0</td>\n",
       "      <td>0.0</td>\n",
       "      <td>0.0000</td>\n",
       "      <td>...</td>\n",
       "      <td>0.0000</td>\n",
       "      <td>0.0</td>\n",
       "      <td>0.0000</td>\n",
       "      <td>0.0</td>\n",
       "      <td>0.0</td>\n",
       "      <td>0.0</td>\n",
       "      <td>0.0</td>\n",
       "      <td>0.0</td>\n",
       "      <td>0.25</td>\n",
       "      <td>0.0</td>\n",
       "    </tr>\n",
       "    <tr>\n",
       "      <th>4</th>\n",
       "      <td>Del Ray, Mount Dennis, Keelsdale and Silverthorn</td>\n",
       "      <td>0.0</td>\n",
       "      <td>0.0</td>\n",
       "      <td>0.0000</td>\n",
       "      <td>0.0</td>\n",
       "      <td>0.0</td>\n",
       "      <td>0.0</td>\n",
       "      <td>0.0</td>\n",
       "      <td>0.0</td>\n",
       "      <td>0.0000</td>\n",
       "      <td>...</td>\n",
       "      <td>0.0000</td>\n",
       "      <td>0.0</td>\n",
       "      <td>0.0000</td>\n",
       "      <td>0.0</td>\n",
       "      <td>0.2</td>\n",
       "      <td>0.0</td>\n",
       "      <td>0.0</td>\n",
       "      <td>0.0</td>\n",
       "      <td>0.00</td>\n",
       "      <td>0.0</td>\n",
       "    </tr>\n",
       "  </tbody>\n",
       "</table>\n",
       "<p>5 rows × 120 columns</p>\n",
       "</div>"
      ],
      "text/plain": [
       "                                       Neighborhood  Accessories Store  \\\n",
       "0   Bathurst Manor, Wilson Heights, Downsview North                0.0   \n",
       "1                                   Bayview Village                0.0   \n",
       "2                 Bedford Park, Lawrence Manor East                0.0   \n",
       "3                               Caledonia-Fairbanks                0.0   \n",
       "4  Del Ray, Mount Dennis, Keelsdale and Silverthorn                0.0   \n",
       "\n",
       "   Airport  American Restaurant  Arts & Crafts Store  Asian Restaurant  \\\n",
       "0      0.0               0.0000                  0.0               0.0   \n",
       "1      0.0               0.0000                  0.0               0.0   \n",
       "2      0.0               0.0417                  0.0               0.0   \n",
       "3      0.0               0.0000                  0.0               0.0   \n",
       "4      0.0               0.0000                  0.0               0.0   \n",
       "\n",
       "   Athletics & Sports  Bagel Shop  Bakery    Bank  ...  Thai Restaurant  \\\n",
       "0                 0.0         0.0     0.0  0.0909  ...           0.0000   \n",
       "1                 0.0         0.0     0.0  0.2500  ...           0.0000   \n",
       "2                 0.0         0.0     0.0  0.0000  ...           0.0417   \n",
       "3                 0.0         0.0     0.0  0.0000  ...           0.0000   \n",
       "4                 0.0         0.0     0.0  0.0000  ...           0.0000   \n",
       "\n",
       "   Theater  Toy / Game Store  Trail  Turkish Restaurant  Video Game Store  \\\n",
       "0      0.0            0.0000    0.0                 0.0               0.0   \n",
       "1      0.0            0.0000    0.0                 0.0               0.0   \n",
       "2      0.0            0.0417    0.0                 0.0               0.0   \n",
       "3      0.0            0.0000    0.0                 0.0               0.0   \n",
       "4      0.0            0.0000    0.0                 0.2               0.0   \n",
       "\n",
       "   Vietnamese Restaurant  Warehouse Store  Women's Store  Yoga Studio  \n",
       "0                    0.0              0.0           0.00          0.0  \n",
       "1                    0.0              0.0           0.00          0.0  \n",
       "2                    0.0              0.0           0.00          0.0  \n",
       "3                    0.0              0.0           0.25          0.0  \n",
       "4                    0.0              0.0           0.00          0.0  \n",
       "\n",
       "[5 rows x 120 columns]"
      ]
     },
     "execution_count": 85,
     "metadata": {},
     "output_type": "execute_result"
    }
   ],
   "source": [
    "york_categories = categories.groupby(\"Neighborhood\").mean().reset_index().round(4)\n",
    "york_categories.head()"
   ]
  },
  {
   "cell_type": "markdown",
   "metadata": {},
   "source": [
    "Examine the size of the **york_categories** dataframe"
   ]
  },
  {
   "cell_type": "code",
   "execution_count": 86,
   "metadata": {},
   "outputs": [
    {
     "data": {
      "text/plain": [
       "(29, 120)"
      ]
     },
     "execution_count": 86,
     "metadata": {},
     "output_type": "execute_result"
    }
   ],
   "source": [
    "york_categories.shape"
   ]
  },
  {
   "cell_type": "markdown",
   "metadata": {},
   "source": [
    "**Let's print each neighborhood along with its top 5 venue categories**"
   ]
  },
  {
   "cell_type": "code",
   "execution_count": 87,
   "metadata": {
    "scrolled": false
   },
   "outputs": [
    {
     "name": "stdout",
     "output_type": "stream",
     "text": [
      "----Bathurst Manor, Wilson Heights, Downsview North----\n",
      "        venue category  frequency\n",
      "0          Coffee Shop       0.09\n",
      "1                 Bank       0.09\n",
      "2                 Park       0.05\n",
      "3        Shopping Mall       0.05\n",
      "4  Fried Chicken Joint       0.05\n",
      "\n",
      "\n",
      "----Bayview Village----\n",
      "        venue category  frequency\n",
      "0                 Bank       0.25\n",
      "1                 Café       0.25\n",
      "2  Japanese Restaurant       0.25\n",
      "3   Chinese Restaurant       0.25\n",
      "4    Mobile Phone Shop       0.00\n",
      "\n",
      "\n",
      "----Bedford Park, Lawrence Manor East----\n",
      "       venue category  frequency\n",
      "0  Italian Restaurant       0.08\n",
      "1          Restaurant       0.08\n",
      "2      Sandwich Place       0.08\n",
      "3         Coffee Shop       0.08\n",
      "4      Cosmetics Shop       0.04\n",
      "\n",
      "\n",
      "----Caledonia-Fairbanks----\n",
      "      venue category  frequency\n",
      "0               Park       0.50\n",
      "1      Women's Store       0.25\n",
      "2               Pool       0.25\n",
      "3  Accessories Store       0.00\n",
      "4      Metro Station       0.00\n",
      "\n",
      "\n",
      "----Del Ray, Mount Dennis, Keelsdale and Silverthorn----\n",
      "       venue category  frequency\n",
      "0   Convenience Store        0.2\n",
      "1  Turkish Restaurant        0.2\n",
      "2      Sandwich Place        0.2\n",
      "3      Discount Store        0.2\n",
      "4        Skating Rink        0.2\n",
      "\n",
      "\n",
      "----Don Mills----\n",
      "         venue category  frequency\n",
      "0  Caribbean Restaurant        0.2\n",
      "1  Gym / Fitness Center        0.2\n",
      "2    Athletics & Sports        0.2\n",
      "3   Japanese Restaurant        0.2\n",
      "4                  Café        0.2\n",
      "\n",
      "\n",
      "----Downsview----\n",
      "          venue category  frequency\n",
      "0                Airport       0.33\n",
      "1                   Park       0.33\n",
      "2            Snack Place       0.33\n",
      "3  Portuguese Restaurant       0.00\n",
      "4                  Plaza       0.00\n",
      "\n",
      "\n",
      "----East Toronto, Broadview North (Old East York)----\n",
      "        venue category  frequency\n",
      "0                 Park       0.50\n",
      "1    Convenience Store       0.25\n",
      "2  Rental Car Location       0.25\n",
      "3    Accessories Store       0.00\n",
      "4                 Pool       0.00\n",
      "\n",
      "\n",
      "----Fairview, Henry Farm, Oriole----\n",
      "         venue category  frequency\n",
      "0        Clothing Store       0.12\n",
      "1           Coffee Shop       0.10\n",
      "2  Fast Food Restaurant       0.06\n",
      "3                  Bank       0.04\n",
      "4            Restaurant       0.04\n",
      "\n",
      "\n",
      "----Glencairn----\n",
      "        venue category  frequency\n",
      "0          Pizza Place       0.25\n",
      "1               Bakery       0.25\n",
      "2  Japanese Restaurant       0.25\n",
      "3                  Pub       0.25\n",
      "4    Accessories Store       0.00\n",
      "\n",
      "\n",
      "----Hillcrest Village----\n",
      "             venue category  frequency\n",
      "0                      Pool       0.25\n",
      "1               Golf Course       0.25\n",
      "2                   Dog Run       0.25\n",
      "3  Mediterranean Restaurant       0.25\n",
      "4         Accessories Store       0.00\n",
      "\n",
      "\n",
      "----Humber Summit----\n",
      "      venue category  frequency\n",
      "0        Pizza Place        1.0\n",
      "1  Accessories Store        0.0\n",
      "2      Metro Station        0.0\n",
      "3               Pool        0.0\n",
      "4              Plaza        0.0\n",
      "\n",
      "\n",
      "----Humberlea, Emery----\n",
      "      venue category  frequency\n",
      "0     Baseball Field        1.0\n",
      "1  Accessories Store        0.0\n",
      "2      Metro Station        0.0\n",
      "3               Pool        0.0\n",
      "4              Plaza        0.0\n",
      "\n",
      "\n",
      "----Humewood-Cedarvale----\n",
      "  venue category  frequency\n",
      "0   Hockey Arena       0.25\n",
      "1          Trail       0.25\n",
      "2   Tennis Court       0.25\n",
      "3          Field       0.25\n",
      "4  Metro Station       0.00\n",
      "\n",
      "\n",
      "----Lawrence Manor, Lawrence Heights----\n",
      "           venue category  frequency\n",
      "0          Clothing Store       0.18\n",
      "1       Accessories Store       0.09\n",
      "2  Furniture / Home Store       0.09\n",
      "3                Boutique       0.09\n",
      "4             Event Space       0.09\n",
      "\n",
      "\n",
      "----Leaside----\n",
      "           venue category  frequency\n",
      "0             Coffee Shop       0.09\n",
      "1                    Bank       0.06\n",
      "2  Furniture / Home Store       0.06\n",
      "3     Sporting Goods Shop       0.06\n",
      "4            Burger Joint       0.06\n",
      "\n",
      "\n",
      "----North Park, Maple Leaf Park, Upwood Park----\n",
      "               venue category  frequency\n",
      "0  Construction & Landscaping        0.2\n",
      "1                      Bakery        0.2\n",
      "2            Basketball Court        0.2\n",
      "3                        Park        0.2\n",
      "4                       Trail        0.2\n",
      "\n",
      "\n",
      "----Northwood Park, York University----\n",
      "           venue category  frequency\n",
      "0                     Bar       0.14\n",
      "1           Metro Station       0.14\n",
      "2             Coffee Shop       0.14\n",
      "3  Furniture / Home Store       0.14\n",
      "4    Caribbean Restaurant       0.14\n",
      "\n",
      "\n",
      "----Parkview Hill, Woodbine Gardens----\n",
      "         venue category  frequency\n",
      "0           Pizza Place       0.18\n",
      "1              Pharmacy       0.09\n",
      "2  Fast Food Restaurant       0.09\n",
      "3          Intersection       0.09\n",
      "4    Athletics & Sports       0.09\n",
      "\n",
      "\n",
      "----Parkwoods----\n",
      "               venue category  frequency\n",
      "0  Construction & Landscaping       0.33\n",
      "1                        Park       0.33\n",
      "2           Food & Drink Shop       0.33\n",
      "3       Indonesian Restaurant       0.00\n",
      "4   Middle Eastern Restaurant       0.00\n",
      "\n",
      "\n",
      "----Runnymede, The Junction North----\n",
      "       venue category  frequency\n",
      "0             Brewery       0.25\n",
      "1       Grocery Store       0.25\n",
      "2            Bus Line       0.25\n",
      "3   Convenience Store       0.25\n",
      "4  Italian Restaurant       0.00\n",
      "\n",
      "\n",
      "----Thorncliffe Park----\n",
      "      venue category  frequency\n",
      "0  Indian Restaurant       0.10\n",
      "1        Supermarket       0.05\n",
      "2       Intersection       0.05\n",
      "3       Liquor Store       0.05\n",
      "4                Gym       0.05\n",
      "\n",
      "\n",
      "----Victoria Village----\n",
      "          venue category  frequency\n",
      "0           Hockey Arena        0.2\n",
      "1      French Restaurant        0.2\n",
      "2            Coffee Shop        0.2\n",
      "3            Pizza Place        0.2\n",
      "4  Portuguese Restaurant        0.2\n",
      "\n",
      "\n",
      "----Weston----\n",
      "          venue category  frequency\n",
      "0      Convenience Store        0.5\n",
      "1                   Park        0.5\n",
      "2           Home Service        0.0\n",
      "3  Portuguese Restaurant        0.0\n",
      "4                   Pool        0.0\n",
      "\n",
      "\n",
      "----Willowdale, Willowdale East----\n",
      "     venue category  frequency\n",
      "0  Ramen Restaurant       0.09\n",
      "1    Sandwich Place       0.06\n",
      "2       Pizza Place       0.06\n",
      "3  Sushi Restaurant       0.06\n",
      "4              Café       0.06\n",
      "\n",
      "\n",
      "----Willowdale, Willowdale West----\n",
      "  venue category  frequency\n",
      "0           Bank       0.14\n",
      "1   Home Service       0.14\n",
      "2    Coffee Shop       0.14\n",
      "3    Pizza Place       0.14\n",
      "4  Grocery Store       0.14\n",
      "\n",
      "\n",
      "----Woodbine Heights----\n",
      "       venue category  frequency\n",
      "0        Skating Rink       0.12\n",
      "1                Park       0.12\n",
      "2         Curling Ice       0.12\n",
      "3                 Spa       0.12\n",
      "4  Athletics & Sports       0.12\n",
      "\n",
      "\n",
      "----York Mills West----\n",
      "      venue category  frequency\n",
      "0               Park       0.25\n",
      "1                Bar       0.25\n",
      "2      Moving Target       0.25\n",
      "3  Convenience Store       0.25\n",
      "4  Accessories Store       0.00\n",
      "\n",
      "\n",
      "----York Mills, Silver Hills----\n",
      "      venue category  frequency\n",
      "0  Martial Arts Dojo        1.0\n",
      "1  Accessories Store        0.0\n",
      "2      Metro Station        0.0\n",
      "3               Pool        0.0\n",
      "4              Plaza        0.0\n",
      "\n",
      "\n"
     ]
    }
   ],
   "source": [
    "num_top_venues = 5\n",
    "\n",
    "for hood in york_categories[\"Neighborhood\"]:\n",
    "    print(\"----\"+hood+\"----\")\n",
    "    temp = york_categories[york_categories[\"Neighborhood\"] == hood].T.reset_index()\n",
    "    temp.columns = [\"venue category\",\"frequency\"]\n",
    "    temp = temp.iloc[1:]\n",
    "    temp[\"frequency\"] = temp[\"frequency\"].astype(float)\n",
    "    temp = temp.round({\"frequency\": 2})\n",
    "    print(temp.sort_values(by=\"frequency\", ascending=False).reset_index(drop=True).head(num_top_venues))\n",
    "    print('\\n')"
   ]
  },
  {
   "cell_type": "markdown",
   "metadata": {},
   "source": [
    "**Let's now create a dataframe showing the top 10 venue categories for each neighborhood**"
   ]
  },
  {
   "cell_type": "code",
   "execution_count": 101,
   "metadata": {},
   "outputs": [
    {
     "data": {
      "text/html": [
       "<div>\n",
       "<style scoped>\n",
       "    .dataframe tbody tr th:only-of-type {\n",
       "        vertical-align: middle;\n",
       "    }\n",
       "\n",
       "    .dataframe tbody tr th {\n",
       "        vertical-align: top;\n",
       "    }\n",
       "\n",
       "    .dataframe thead th {\n",
       "        text-align: right;\n",
       "    }\n",
       "</style>\n",
       "<table border=\"1\" class=\"dataframe\">\n",
       "  <thead>\n",
       "    <tr style=\"text-align: right;\">\n",
       "      <th></th>\n",
       "      <th>Neighborhood</th>\n",
       "      <th>1st Most Common</th>\n",
       "      <th>2nd Most Common</th>\n",
       "      <th>3rd Most Common</th>\n",
       "      <th>4th Most Common</th>\n",
       "      <th>5th Most Common</th>\n",
       "      <th>6th Most Common</th>\n",
       "      <th>7th Most Common</th>\n",
       "      <th>8th Most Common</th>\n",
       "      <th>9th Most Common</th>\n",
       "      <th>10th Most Common</th>\n",
       "    </tr>\n",
       "  </thead>\n",
       "  <tbody>\n",
       "    <tr>\n",
       "      <th>0</th>\n",
       "      <td>Bathurst Manor, Wilson Heights, Downsview North</td>\n",
       "      <td>Bank</td>\n",
       "      <td>Coffee Shop</td>\n",
       "      <td>Chinese Restaurant</td>\n",
       "      <td>Sandwich Place</td>\n",
       "      <td>Restaurant</td>\n",
       "      <td>Pizza Place</td>\n",
       "      <td>Pharmacy</td>\n",
       "      <td>Park</td>\n",
       "      <td>Mobile Phone Shop</td>\n",
       "      <td>Bridal Shop</td>\n",
       "    </tr>\n",
       "    <tr>\n",
       "      <th>1</th>\n",
       "      <td>Bayview Village</td>\n",
       "      <td>Chinese Restaurant</td>\n",
       "      <td>Café</td>\n",
       "      <td>Bank</td>\n",
       "      <td>Japanese Restaurant</td>\n",
       "      <td>Yoga Studio</td>\n",
       "      <td>Field</td>\n",
       "      <td>Curling Ice</td>\n",
       "      <td>Deli / Bodega</td>\n",
       "      <td>Department Store</td>\n",
       "      <td>Dessert Shop</td>\n",
       "    </tr>\n",
       "    <tr>\n",
       "      <th>2</th>\n",
       "      <td>Bedford Park, Lawrence Manor East</td>\n",
       "      <td>Coffee Shop</td>\n",
       "      <td>Restaurant</td>\n",
       "      <td>Sandwich Place</td>\n",
       "      <td>Italian Restaurant</td>\n",
       "      <td>Pizza Place</td>\n",
       "      <td>Indian Restaurant</td>\n",
       "      <td>Cosmetics Shop</td>\n",
       "      <td>Pharmacy</td>\n",
       "      <td>Café</td>\n",
       "      <td>Butcher</td>\n",
       "    </tr>\n",
       "    <tr>\n",
       "      <th>3</th>\n",
       "      <td>Caledonia-Fairbanks</td>\n",
       "      <td>Park</td>\n",
       "      <td>Women's Store</td>\n",
       "      <td>Pool</td>\n",
       "      <td>Yoga Studio</td>\n",
       "      <td>Fast Food Restaurant</td>\n",
       "      <td>Convenience Store</td>\n",
       "      <td>Cosmetics Shop</td>\n",
       "      <td>Curling Ice</td>\n",
       "      <td>Deli / Bodega</td>\n",
       "      <td>Department Store</td>\n",
       "    </tr>\n",
       "    <tr>\n",
       "      <th>4</th>\n",
       "      <td>Del Ray, Mount Dennis, Keelsdale and Silverthorn</td>\n",
       "      <td>Convenience Store</td>\n",
       "      <td>Turkish Restaurant</td>\n",
       "      <td>Sandwich Place</td>\n",
       "      <td>Skating Rink</td>\n",
       "      <td>Discount Store</td>\n",
       "      <td>Yoga Studio</td>\n",
       "      <td>Event Space</td>\n",
       "      <td>Construction &amp; Landscaping</td>\n",
       "      <td>Cosmetics Shop</td>\n",
       "      <td>Curling Ice</td>\n",
       "    </tr>\n",
       "  </tbody>\n",
       "</table>\n",
       "</div>"
      ],
      "text/plain": [
       "                                       Neighborhood     1st Most Common  \\\n",
       "0   Bathurst Manor, Wilson Heights, Downsview North                Bank   \n",
       "1                                   Bayview Village  Chinese Restaurant   \n",
       "2                 Bedford Park, Lawrence Manor East         Coffee Shop   \n",
       "3                               Caledonia-Fairbanks                Park   \n",
       "4  Del Ray, Mount Dennis, Keelsdale and Silverthorn   Convenience Store   \n",
       "\n",
       "      2nd Most Common     3rd Most Common      4th Most Common  \\\n",
       "0         Coffee Shop  Chinese Restaurant       Sandwich Place   \n",
       "1                Café                Bank  Japanese Restaurant   \n",
       "2          Restaurant      Sandwich Place   Italian Restaurant   \n",
       "3       Women's Store                Pool          Yoga Studio   \n",
       "4  Turkish Restaurant      Sandwich Place         Skating Rink   \n",
       "\n",
       "        5th Most Common    6th Most Common 7th Most Common  \\\n",
       "0            Restaurant        Pizza Place        Pharmacy   \n",
       "1           Yoga Studio              Field     Curling Ice   \n",
       "2           Pizza Place  Indian Restaurant  Cosmetics Shop   \n",
       "3  Fast Food Restaurant  Convenience Store  Cosmetics Shop   \n",
       "4        Discount Store        Yoga Studio     Event Space   \n",
       "\n",
       "              8th Most Common    9th Most Common  10th Most Common  \n",
       "0                        Park  Mobile Phone Shop       Bridal Shop  \n",
       "1               Deli / Bodega   Department Store      Dessert Shop  \n",
       "2                    Pharmacy               Café           Butcher  \n",
       "3                 Curling Ice      Deli / Bodega  Department Store  \n",
       "4  Construction & Landscaping     Cosmetics Shop       Curling Ice  "
      ]
     },
     "execution_count": 101,
     "metadata": {},
     "output_type": "execute_result"
    }
   ],
   "source": [
    "columns = [\"Neighborhood\"]\n",
    "\n",
    "for i in range(1, 11):\n",
    "    columns.append(f\"{inflect.engine().ordinal(i)} Most Common\")\n",
    "\n",
    "york = pd.DataFrame(columns=columns)\n",
    "york[\"Neighborhood\"] = york_categories[\"Neighborhood\"]\n",
    "\n",
    "for index, row in york_categories.iterrows():\n",
    "    york.iloc[index, 1:] = row.iloc[1:].sort_values(ascending=False).index[:10]\n",
    "\n",
    "york.head()\n",
    "    "
   ]
  },
  {
   "cell_type": "markdown",
   "metadata": {},
   "source": [
    "\n"
   ]
  },
  {
   "cell_type": "markdown",
   "metadata": {},
   "source": [
    "### Cluster the Neighborhoods using K-Means"
   ]
  },
  {
   "cell_type": "markdown",
   "metadata": {},
   "source": [
    "**Get a features dataframe for fitting**"
   ]
  },
  {
   "cell_type": "code",
   "execution_count": 89,
   "metadata": {},
   "outputs": [],
   "source": [
    "features = york_categories.drop(\"Neighborhood\", axis=1)"
   ]
  },
  {
   "cell_type": "markdown",
   "metadata": {},
   "source": [
    "**Determine the best k value to use for the model**"
   ]
  },
  {
   "cell_type": "code",
   "execution_count": 90,
   "metadata": {},
   "outputs": [],
   "source": [
    "clusters = list(range(3, 8))\n",
    "score = []\n",
    "for cluster in clusters:\n",
    "    kmean = KMeans(init=\"k-means++\", n_clusters=cluster, n_init=28, random_state=6)\n",
    "    kmean.fit(features)\n",
    "    score.append(kmean.inertia_)"
   ]
  },
  {
   "cell_type": "markdown",
   "metadata": {},
   "source": [
    "Visualization to determine the elbow point"
   ]
  },
  {
   "cell_type": "code",
   "execution_count": 91,
   "metadata": {},
   "outputs": [
    {
     "data": {
      "image/png": "[encoded data removed]",
      "text/plain": [
       "<Figure size 432x288 with 1 Axes>"
      ]
     },
     "metadata": {
      "needs_background": "light"
     },
     "output_type": "display_data"
    }
   ],
   "source": [
    "plt.plot(clusters, score, color=\"red\", marker=\"*\")\n",
    "plt.title(\"Sum of Squares as a function of K\")\n",
    "plt.xlabel(\"K\")\n",
    "plt.ylabel(\"Sum of Squares\")\n",
    "plt.show()"
   ]
  },
  {
   "cell_type": "markdown",
   "metadata": {},
   "source": [
    "**From the plot shown above, it is seen that the elbow point is at K = 5**"
   ]
  },
  {
   "cell_type": "markdown",
   "metadata": {},
   "source": [
    "**Build and fit the model**"
   ]
  },
  {
   "cell_type": "code",
   "execution_count": 92,
   "metadata": {
    "scrolled": true
   },
   "outputs": [
    {
     "data": {
      "text/plain": [
       "KMeans(algorithm='auto', copy_x=True, init='k-means++', max_iter=300,\n",
       "       n_clusters=5, n_init=12, n_jobs=None, precompute_distances='auto',\n",
       "       random_state=0, tol=0.0001, verbose=0)"
      ]
     },
     "execution_count": 92,
     "metadata": {},
     "output_type": "execute_result"
    }
   ],
   "source": [
    "kmean = KMeans(init=\"k-means++\", n_clusters=5, n_init=12, random_state=0)\n",
    "kmean.fit(features)"
   ]
  },
  {
   "cell_type": "markdown",
   "metadata": {},
   "source": [
    "**Obtain the predicted labels**"
   ]
  },
  {
   "cell_type": "code",
   "execution_count": 93,
   "metadata": {},
   "outputs": [
    {
     "data": {
      "text/plain": [
       "array([1, 1, 1, 4, 1])"
      ]
     },
     "execution_count": 93,
     "metadata": {},
     "output_type": "execute_result"
    }
   ],
   "source": [
    "labels = kmean.labels_\n",
    "labels[:5]"
   ]
  },
  {
   "cell_type": "markdown",
   "metadata": {},
   "source": [
    "**Append the labels predicted by the model to their respective neighborhoods**"
   ]
  },
  {
   "cell_type": "code",
   "execution_count": 103,
   "metadata": {},
   "outputs": [
    {
     "data": {
      "text/html": [
       "<div>\n",
       "<style scoped>\n",
       "    .dataframe tbody tr th:only-of-type {\n",
       "        vertical-align: middle;\n",
       "    }\n",
       "\n",
       "    .dataframe tbody tr th {\n",
       "        vertical-align: top;\n",
       "    }\n",
       "\n",
       "    .dataframe thead th {\n",
       "        text-align: right;\n",
       "    }\n",
       "</style>\n",
       "<table border=\"1\" class=\"dataframe\">\n",
       "  <thead>\n",
       "    <tr style=\"text-align: right;\">\n",
       "      <th></th>\n",
       "      <th>Cluster Labels</th>\n",
       "      <th>Neighborhood</th>\n",
       "      <th>1st Most Common</th>\n",
       "      <th>2nd Most Common</th>\n",
       "      <th>3rd Most Common</th>\n",
       "      <th>4th Most Common</th>\n",
       "      <th>5th Most Common</th>\n",
       "      <th>6th Most Common</th>\n",
       "      <th>7th Most Common</th>\n",
       "      <th>8th Most Common</th>\n",
       "      <th>9th Most Common</th>\n",
       "      <th>10th Most Common</th>\n",
       "    </tr>\n",
       "  </thead>\n",
       "  <tbody>\n",
       "    <tr>\n",
       "      <th>0</th>\n",
       "      <td>1</td>\n",
       "      <td>Bathurst Manor, Wilson Heights, Downsview North</td>\n",
       "      <td>Bank</td>\n",
       "      <td>Coffee Shop</td>\n",
       "      <td>Chinese Restaurant</td>\n",
       "      <td>Sandwich Place</td>\n",
       "      <td>Restaurant</td>\n",
       "      <td>Pizza Place</td>\n",
       "      <td>Pharmacy</td>\n",
       "      <td>Park</td>\n",
       "      <td>Mobile Phone Shop</td>\n",
       "      <td>Bridal Shop</td>\n",
       "    </tr>\n",
       "    <tr>\n",
       "      <th>1</th>\n",
       "      <td>1</td>\n",
       "      <td>Bayview Village</td>\n",
       "      <td>Chinese Restaurant</td>\n",
       "      <td>Café</td>\n",
       "      <td>Bank</td>\n",
       "      <td>Japanese Restaurant</td>\n",
       "      <td>Yoga Studio</td>\n",
       "      <td>Field</td>\n",
       "      <td>Curling Ice</td>\n",
       "      <td>Deli / Bodega</td>\n",
       "      <td>Department Store</td>\n",
       "      <td>Dessert Shop</td>\n",
       "    </tr>\n",
       "    <tr>\n",
       "      <th>2</th>\n",
       "      <td>1</td>\n",
       "      <td>Bedford Park, Lawrence Manor East</td>\n",
       "      <td>Coffee Shop</td>\n",
       "      <td>Restaurant</td>\n",
       "      <td>Sandwich Place</td>\n",
       "      <td>Italian Restaurant</td>\n",
       "      <td>Pizza Place</td>\n",
       "      <td>Indian Restaurant</td>\n",
       "      <td>Cosmetics Shop</td>\n",
       "      <td>Pharmacy</td>\n",
       "      <td>Café</td>\n",
       "      <td>Butcher</td>\n",
       "    </tr>\n",
       "    <tr>\n",
       "      <th>3</th>\n",
       "      <td>4</td>\n",
       "      <td>Caledonia-Fairbanks</td>\n",
       "      <td>Park</td>\n",
       "      <td>Women's Store</td>\n",
       "      <td>Pool</td>\n",
       "      <td>Yoga Studio</td>\n",
       "      <td>Fast Food Restaurant</td>\n",
       "      <td>Convenience Store</td>\n",
       "      <td>Cosmetics Shop</td>\n",
       "      <td>Curling Ice</td>\n",
       "      <td>Deli / Bodega</td>\n",
       "      <td>Department Store</td>\n",
       "    </tr>\n",
       "    <tr>\n",
       "      <th>4</th>\n",
       "      <td>1</td>\n",
       "      <td>Del Ray, Mount Dennis, Keelsdale and Silverthorn</td>\n",
       "      <td>Convenience Store</td>\n",
       "      <td>Turkish Restaurant</td>\n",
       "      <td>Sandwich Place</td>\n",
       "      <td>Skating Rink</td>\n",
       "      <td>Discount Store</td>\n",
       "      <td>Yoga Studio</td>\n",
       "      <td>Event Space</td>\n",
       "      <td>Construction &amp; Landscaping</td>\n",
       "      <td>Cosmetics Shop</td>\n",
       "      <td>Curling Ice</td>\n",
       "    </tr>\n",
       "  </tbody>\n",
       "</table>\n",
       "</div>"
      ],
      "text/plain": [
       "   Cluster Labels                                      Neighborhood  \\\n",
       "0               1   Bathurst Manor, Wilson Heights, Downsview North   \n",
       "1               1                                   Bayview Village   \n",
       "2               1                 Bedford Park, Lawrence Manor East   \n",
       "3               4                               Caledonia-Fairbanks   \n",
       "4               1  Del Ray, Mount Dennis, Keelsdale and Silverthorn   \n",
       "\n",
       "      1st Most Common     2nd Most Common     3rd Most Common  \\\n",
       "0                Bank         Coffee Shop  Chinese Restaurant   \n",
       "1  Chinese Restaurant                Café                Bank   \n",
       "2         Coffee Shop          Restaurant      Sandwich Place   \n",
       "3                Park       Women's Store                Pool   \n",
       "4   Convenience Store  Turkish Restaurant      Sandwich Place   \n",
       "\n",
       "       4th Most Common       5th Most Common    6th Most Common  \\\n",
       "0       Sandwich Place            Restaurant        Pizza Place   \n",
       "1  Japanese Restaurant           Yoga Studio              Field   \n",
       "2   Italian Restaurant           Pizza Place  Indian Restaurant   \n",
       "3          Yoga Studio  Fast Food Restaurant  Convenience Store   \n",
       "4         Skating Rink        Discount Store        Yoga Studio   \n",
       "\n",
       "  7th Most Common             8th Most Common    9th Most Common  \\\n",
       "0        Pharmacy                        Park  Mobile Phone Shop   \n",
       "1     Curling Ice               Deli / Bodega   Department Store   \n",
       "2  Cosmetics Shop                    Pharmacy               Café   \n",
       "3  Cosmetics Shop                 Curling Ice      Deli / Bodega   \n",
       "4     Event Space  Construction & Landscaping     Cosmetics Shop   \n",
       "\n",
       "   10th Most Common  \n",
       "0       Bridal Shop  \n",
       "1      Dessert Shop  \n",
       "2           Butcher  \n",
       "3  Department Store  \n",
       "4       Curling Ice  "
      ]
     },
     "execution_count": 103,
     "metadata": {},
     "output_type": "execute_result"
    }
   ],
   "source": [
    "#york.drop(\"Cluster Labels\", axis=1, inplace=True)\n",
    "york.insert(0, \"Cluster Labels\", labels)\n",
    "york.head()"
   ]
  },
  {
   "cell_type": "markdown",
   "metadata": {},
   "source": [
    "**Obtain a single dataframe containing all key pieces of information about each neighborhood**"
   ]
  },
  {
   "cell_type": "code",
   "execution_count": 104,
   "metadata": {},
   "outputs": [
    {
     "data": {
      "text/html": [
       "<div>\n",
       "<style scoped>\n",
       "    .dataframe tbody tr th:only-of-type {\n",
       "        vertical-align: middle;\n",
       "    }\n",
       "\n",
       "    .dataframe tbody tr th {\n",
       "        vertical-align: top;\n",
       "    }\n",
       "\n",
       "    .dataframe thead th {\n",
       "        text-align: right;\n",
       "    }\n",
       "</style>\n",
       "<table border=\"1\" class=\"dataframe\">\n",
       "  <thead>\n",
       "    <tr style=\"text-align: right;\">\n",
       "      <th></th>\n",
       "      <th>PostalCode</th>\n",
       "      <th>Borough</th>\n",
       "      <th>Neighborhood</th>\n",
       "      <th>Latitude</th>\n",
       "      <th>Longitude</th>\n",
       "      <th>Cluster Labels</th>\n",
       "      <th>1st Most Common</th>\n",
       "      <th>2nd Most Common</th>\n",
       "      <th>3rd Most Common</th>\n",
       "      <th>4th Most Common</th>\n",
       "      <th>5th Most Common</th>\n",
       "      <th>6th Most Common</th>\n",
       "      <th>7th Most Common</th>\n",
       "      <th>8th Most Common</th>\n",
       "      <th>9th Most Common</th>\n",
       "      <th>10th Most Common</th>\n",
       "    </tr>\n",
       "  </thead>\n",
       "  <tbody>\n",
       "    <tr>\n",
       "      <th>0</th>\n",
       "      <td>M3A</td>\n",
       "      <td>North York</td>\n",
       "      <td>Parkwoods</td>\n",
       "      <td>43.753259</td>\n",
       "      <td>-79.329656</td>\n",
       "      <td>1</td>\n",
       "      <td>Construction &amp; Landscaping</td>\n",
       "      <td>Park</td>\n",
       "      <td>Food &amp; Drink Shop</td>\n",
       "      <td>Fast Food Restaurant</td>\n",
       "      <td>Convenience Store</td>\n",
       "      <td>Cosmetics Shop</td>\n",
       "      <td>Curling Ice</td>\n",
       "      <td>Deli / Bodega</td>\n",
       "      <td>Department Store</td>\n",
       "      <td>Dessert Shop</td>\n",
       "    </tr>\n",
       "    <tr>\n",
       "      <th>1</th>\n",
       "      <td>M4A</td>\n",
       "      <td>North York</td>\n",
       "      <td>Victoria Village</td>\n",
       "      <td>43.725882</td>\n",
       "      <td>-79.315572</td>\n",
       "      <td>1</td>\n",
       "      <td>Hockey Arena</td>\n",
       "      <td>Coffee Shop</td>\n",
       "      <td>French Restaurant</td>\n",
       "      <td>Pizza Place</td>\n",
       "      <td>Portuguese Restaurant</td>\n",
       "      <td>Asian Restaurant</td>\n",
       "      <td>Field</td>\n",
       "      <td>Cosmetics Shop</td>\n",
       "      <td>Curling Ice</td>\n",
       "      <td>Deli / Bodega</td>\n",
       "    </tr>\n",
       "    <tr>\n",
       "      <th>2</th>\n",
       "      <td>M6A</td>\n",
       "      <td>North York</td>\n",
       "      <td>Lawrence Manor, Lawrence Heights</td>\n",
       "      <td>43.718518</td>\n",
       "      <td>-79.464763</td>\n",
       "      <td>1</td>\n",
       "      <td>Clothing Store</td>\n",
       "      <td>Boutique</td>\n",
       "      <td>Gift Shop</td>\n",
       "      <td>Furniture / Home Store</td>\n",
       "      <td>Event Space</td>\n",
       "      <td>Miscellaneous Shop</td>\n",
       "      <td>Coffee Shop</td>\n",
       "      <td>Shoe Store</td>\n",
       "      <td>Accessories Store</td>\n",
       "      <td>Vietnamese Restaurant</td>\n",
       "    </tr>\n",
       "    <tr>\n",
       "      <th>3</th>\n",
       "      <td>M3B</td>\n",
       "      <td>North York</td>\n",
       "      <td>Don Mills</td>\n",
       "      <td>43.745906</td>\n",
       "      <td>-79.352188</td>\n",
       "      <td>1</td>\n",
       "      <td>Gym / Fitness Center</td>\n",
       "      <td>Caribbean Restaurant</td>\n",
       "      <td>Athletics &amp; Sports</td>\n",
       "      <td>Café</td>\n",
       "      <td>Japanese Restaurant</td>\n",
       "      <td>Field</td>\n",
       "      <td>Curling Ice</td>\n",
       "      <td>Deli / Bodega</td>\n",
       "      <td>Department Store</td>\n",
       "      <td>Dessert Shop</td>\n",
       "    </tr>\n",
       "    <tr>\n",
       "      <th>4</th>\n",
       "      <td>M4B</td>\n",
       "      <td>East York</td>\n",
       "      <td>Parkview Hill, Woodbine Gardens</td>\n",
       "      <td>43.706397</td>\n",
       "      <td>-79.309937</td>\n",
       "      <td>1</td>\n",
       "      <td>Pizza Place</td>\n",
       "      <td>Breakfast Spot</td>\n",
       "      <td>Bank</td>\n",
       "      <td>Gym / Fitness Center</td>\n",
       "      <td>Café</td>\n",
       "      <td>Fast Food Restaurant</td>\n",
       "      <td>Intersection</td>\n",
       "      <td>Pharmacy</td>\n",
       "      <td>Athletics &amp; Sports</td>\n",
       "      <td>Gastropub</td>\n",
       "    </tr>\n",
       "  </tbody>\n",
       "</table>\n",
       "</div>"
      ],
      "text/plain": [
       "  PostalCode     Borough                      Neighborhood   Latitude  \\\n",
       "0        M3A  North York                         Parkwoods  43.753259   \n",
       "1        M4A  North York                  Victoria Village  43.725882   \n",
       "2        M6A  North York  Lawrence Manor, Lawrence Heights  43.718518   \n",
       "3        M3B  North York                         Don Mills  43.745906   \n",
       "4        M4B   East York   Parkview Hill, Woodbine Gardens  43.706397   \n",
       "\n",
       "   Longitude  Cluster Labels             1st Most Common  \\\n",
       "0 -79.329656               1  Construction & Landscaping   \n",
       "1 -79.315572               1                Hockey Arena   \n",
       "2 -79.464763               1              Clothing Store   \n",
       "3 -79.352188               1        Gym / Fitness Center   \n",
       "4 -79.309937               1                 Pizza Place   \n",
       "\n",
       "        2nd Most Common     3rd Most Common         4th Most Common  \\\n",
       "0                  Park   Food & Drink Shop    Fast Food Restaurant   \n",
       "1           Coffee Shop   French Restaurant             Pizza Place   \n",
       "2              Boutique           Gift Shop  Furniture / Home Store   \n",
       "3  Caribbean Restaurant  Athletics & Sports                    Café   \n",
       "4        Breakfast Spot                Bank    Gym / Fitness Center   \n",
       "\n",
       "         5th Most Common       6th Most Common 7th Most Common  \\\n",
       "0      Convenience Store        Cosmetics Shop     Curling Ice   \n",
       "1  Portuguese Restaurant      Asian Restaurant           Field   \n",
       "2            Event Space    Miscellaneous Shop     Coffee Shop   \n",
       "3    Japanese Restaurant                 Field     Curling Ice   \n",
       "4                   Café  Fast Food Restaurant    Intersection   \n",
       "\n",
       "  8th Most Common     9th Most Common       10th Most Common  \n",
       "0   Deli / Bodega    Department Store           Dessert Shop  \n",
       "1  Cosmetics Shop         Curling Ice          Deli / Bodega  \n",
       "2      Shoe Store   Accessories Store  Vietnamese Restaurant  \n",
       "3   Deli / Bodega    Department Store           Dessert Shop  \n",
       "4        Pharmacy  Athletics & Sports              Gastropub  "
      ]
     },
     "execution_count": 104,
     "metadata": {},
     "output_type": "execute_result"
    }
   ],
   "source": [
    "york_merged = york_df.merge(york, on=\"Neighborhood\")\n",
    "york_merged.head()"
   ]
  },
  {
   "cell_type": "markdown",
   "metadata": {},
   "source": [
    "**Visualize the various clusters of the neighborhoods on a map**"
   ]
  },
  {
   "cell_type": "code",
   "execution_count": 96,
   "metadata": {
    "scrolled": false
   },
   "outputs": [
    {
     "data": {
      "text/html": [
       "<div style=\"width:100%;\"><div style=\"position:relative;width:100%;height:0;padding-bottom:60%;\"><span style=\"color:#565656\">Make this Notebook Trusted to load map: File -> Trust Notebook</span><iframe src=\"about:blank\" style=\"position:absolute;width:100%;height:100%;left:0;top:0;border:none !important;\" data-html=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 onload=\"this.contentDocument.open();this.contentDocument.write(atob(this.getAttribute('data-html')));this.contentDocument.close();\" allowfullscreen webkitallowfullscreen mozallowfullscreen></iframe></div></div>"
      ],
      "text/plain": [
       "<folium.folium.Map at 0x1c4b0e8c808>"
      ]
     },
     "execution_count": 96,
     "metadata": {},
     "output_type": "execute_result"
    }
   ],
   "source": [
    "# create map\n",
    "map_clusters = folium.Map(location=[york_latitude, york_longitude], zoom_start=11)\n",
    "\n",
    "# set color scheme for the clusters\n",
    "kclusters = 5\n",
    "x = np.arange(kclusters)\n",
    "ys = [i + x + (i*x)**2 for i in range(kclusters)]\n",
    "colors_array = cm.rainbow(np.linspace(0, 1, len(ys)))\n",
    "rainbow = [colors.rgb2hex(i) for i in colors_array]\n",
    "\n",
    "# add markers to the map\n",
    "markers_colors = []\n",
    "for lat, lon, poi, cluster in\\\n",
    "zip(york_merged[\"Latitude\"], york_merged[\"Longitude\"], york_merged[\"Neighborhood\"], york_merged[\"Cluster Labels\"]):\n",
    "    \n",
    "    label = folium.Popup(str(poi) + \" Cluster \" + str(cluster + 1), parse_html=True)\n",
    "    folium.CircleMarker(\n",
    "        [lat, lon],\n",
    "        radius=5,\n",
    "        popup=label,\n",
    "        color=rainbow[cluster-1],\n",
    "        fill=True,\n",
    "        fill_color=rainbow[cluster-1],\n",
    "        fill_opacity=0.7).add_to(map_clusters)\n",
    "    \n",
    "map_clusters"
   ]
  },
  {
   "cell_type": "markdown",
   "metadata": {},
   "source": [
    "It is seen from the map that most of the neighborhoods belong to a particular cluster "
   ]
  },
  {
   "cell_type": "markdown",
   "metadata": {},
   "source": [
    "**Let's check the number of neighborhoods in each cluster**"
   ]
  },
  {
   "cell_type": "code",
   "execution_count": 97,
   "metadata": {},
   "outputs": [
    {
     "data": {
      "text/plain": [
       "Cluster Labels\n",
       "0     1\n",
       "1    22\n",
       "2     1\n",
       "3     1\n",
       "4     4\n",
       "Name: Neighborhood, dtype: int64"
      ]
     },
     "execution_count": 97,
     "metadata": {},
     "output_type": "execute_result"
    }
   ],
   "source": [
    "york_merged.groupby(\"Cluster Labels\")[\"Neighborhood\"].count()"
   ]
  },
  {
   "cell_type": "markdown",
   "metadata": {},
   "source": [
    "### Let's examine the neighborhoods under each cluster"
   ]
  },
  {
   "cell_type": "markdown",
   "metadata": {},
   "source": [
    "### Cluster 1"
   ]
  },
  {
   "cell_type": "code",
   "execution_count": 105,
   "metadata": {
    "scrolled": false
   },
   "outputs": [
    {
     "data": {
      "text/html": [
       "<div>\n",
       "<style scoped>\n",
       "    .dataframe tbody tr th:only-of-type {\n",
       "        vertical-align: middle;\n",
       "    }\n",
       "\n",
       "    .dataframe tbody tr th {\n",
       "        vertical-align: top;\n",
       "    }\n",
       "\n",
       "    .dataframe thead th {\n",
       "        text-align: right;\n",
       "    }\n",
       "</style>\n",
       "<table border=\"1\" class=\"dataframe\">\n",
       "  <thead>\n",
       "    <tr style=\"text-align: right;\">\n",
       "      <th></th>\n",
       "      <th>Borough</th>\n",
       "      <th>Neighborhood</th>\n",
       "      <th>1st Most Common</th>\n",
       "      <th>2nd Most Common</th>\n",
       "      <th>3rd Most Common</th>\n",
       "      <th>4th Most Common</th>\n",
       "      <th>5th Most Common</th>\n",
       "      <th>6th Most Common</th>\n",
       "      <th>7th Most Common</th>\n",
       "      <th>8th Most Common</th>\n",
       "      <th>9th Most Common</th>\n",
       "      <th>10th Most Common</th>\n",
       "    </tr>\n",
       "  </thead>\n",
       "  <tbody>\n",
       "    <tr>\n",
       "      <th>23</th>\n",
       "      <td>North York</td>\n",
       "      <td>Humberlea, Emery</td>\n",
       "      <td>Baseball Field</td>\n",
       "      <td>Yoga Studio</td>\n",
       "      <td>Field</td>\n",
       "      <td>Convenience Store</td>\n",
       "      <td>Cosmetics Shop</td>\n",
       "      <td>Curling Ice</td>\n",
       "      <td>Deli / Bodega</td>\n",
       "      <td>Department Store</td>\n",
       "      <td>Dessert Shop</td>\n",
       "      <td>Diner</td>\n",
       "    </tr>\n",
       "  </tbody>\n",
       "</table>\n",
       "</div>"
      ],
      "text/plain": [
       "       Borough      Neighborhood 1st Most Common 2nd Most Common  \\\n",
       "23  North York  Humberlea, Emery  Baseball Field     Yoga Studio   \n",
       "\n",
       "   3rd Most Common    4th Most Common 5th Most Common 6th Most Common  \\\n",
       "23           Field  Convenience Store  Cosmetics Shop     Curling Ice   \n",
       "\n",
       "   7th Most Common   8th Most Common 9th Most Common 10th Most Common  \n",
       "23   Deli / Bodega  Department Store    Dessert Shop            Diner  "
      ]
     },
     "execution_count": 105,
     "metadata": {},
     "output_type": "execute_result"
    }
   ],
   "source": [
    "cluster1 = york_merged.loc[york_merged['Cluster Labels'] == 0,\\\n",
    "                york_merged.columns[[1] + [2] + list(range(6, york_merged.shape[1]))]]\n",
    "cluster1"
   ]
  },
  {
   "cell_type": "markdown",
   "metadata": {},
   "source": [
    "\n"
   ]
  },
  {
   "cell_type": "markdown",
   "metadata": {},
   "source": [
    "### Cluster 2"
   ]
  },
  {
   "cell_type": "code",
   "execution_count": 106,
   "metadata": {},
   "outputs": [
    {
     "data": {
      "text/html": [
       "<div>\n",
       "<style scoped>\n",
       "    .dataframe tbody tr th:only-of-type {\n",
       "        vertical-align: middle;\n",
       "    }\n",
       "\n",
       "    .dataframe tbody tr th {\n",
       "        vertical-align: top;\n",
       "    }\n",
       "\n",
       "    .dataframe thead th {\n",
       "        text-align: right;\n",
       "    }\n",
       "</style>\n",
       "<table border=\"1\" class=\"dataframe\">\n",
       "  <thead>\n",
       "    <tr style=\"text-align: right;\">\n",
       "      <th></th>\n",
       "      <th>Borough</th>\n",
       "      <th>Neighborhood</th>\n",
       "      <th>1st Most Common</th>\n",
       "      <th>2nd Most Common</th>\n",
       "      <th>3rd Most Common</th>\n",
       "      <th>4th Most Common</th>\n",
       "      <th>5th Most Common</th>\n",
       "      <th>6th Most Common</th>\n",
       "      <th>7th Most Common</th>\n",
       "      <th>8th Most Common</th>\n",
       "      <th>9th Most Common</th>\n",
       "      <th>10th Most Common</th>\n",
       "    </tr>\n",
       "  </thead>\n",
       "  <tbody>\n",
       "    <tr>\n",
       "      <th>0</th>\n",
       "      <td>North York</td>\n",
       "      <td>Parkwoods</td>\n",
       "      <td>Construction &amp; Landscaping</td>\n",
       "      <td>Park</td>\n",
       "      <td>Food &amp; Drink Shop</td>\n",
       "      <td>Fast Food Restaurant</td>\n",
       "      <td>Convenience Store</td>\n",
       "      <td>Cosmetics Shop</td>\n",
       "      <td>Curling Ice</td>\n",
       "      <td>Deli / Bodega</td>\n",
       "      <td>Department Store</td>\n",
       "      <td>Dessert Shop</td>\n",
       "    </tr>\n",
       "    <tr>\n",
       "      <th>1</th>\n",
       "      <td>North York</td>\n",
       "      <td>Victoria Village</td>\n",
       "      <td>Hockey Arena</td>\n",
       "      <td>Coffee Shop</td>\n",
       "      <td>French Restaurant</td>\n",
       "      <td>Pizza Place</td>\n",
       "      <td>Portuguese Restaurant</td>\n",
       "      <td>Asian Restaurant</td>\n",
       "      <td>Field</td>\n",
       "      <td>Cosmetics Shop</td>\n",
       "      <td>Curling Ice</td>\n",
       "      <td>Deli / Bodega</td>\n",
       "    </tr>\n",
       "    <tr>\n",
       "      <th>2</th>\n",
       "      <td>North York</td>\n",
       "      <td>Lawrence Manor, Lawrence Heights</td>\n",
       "      <td>Clothing Store</td>\n",
       "      <td>Boutique</td>\n",
       "      <td>Gift Shop</td>\n",
       "      <td>Furniture / Home Store</td>\n",
       "      <td>Event Space</td>\n",
       "      <td>Miscellaneous Shop</td>\n",
       "      <td>Coffee Shop</td>\n",
       "      <td>Shoe Store</td>\n",
       "      <td>Accessories Store</td>\n",
       "      <td>Vietnamese Restaurant</td>\n",
       "    </tr>\n",
       "    <tr>\n",
       "      <th>3</th>\n",
       "      <td>North York</td>\n",
       "      <td>Don Mills</td>\n",
       "      <td>Gym / Fitness Center</td>\n",
       "      <td>Caribbean Restaurant</td>\n",
       "      <td>Athletics &amp; Sports</td>\n",
       "      <td>Café</td>\n",
       "      <td>Japanese Restaurant</td>\n",
       "      <td>Field</td>\n",
       "      <td>Curling Ice</td>\n",
       "      <td>Deli / Bodega</td>\n",
       "      <td>Department Store</td>\n",
       "      <td>Dessert Shop</td>\n",
       "    </tr>\n",
       "    <tr>\n",
       "      <th>4</th>\n",
       "      <td>East York</td>\n",
       "      <td>Parkview Hill, Woodbine Gardens</td>\n",
       "      <td>Pizza Place</td>\n",
       "      <td>Breakfast Spot</td>\n",
       "      <td>Bank</td>\n",
       "      <td>Gym / Fitness Center</td>\n",
       "      <td>Café</td>\n",
       "      <td>Fast Food Restaurant</td>\n",
       "      <td>Intersection</td>\n",
       "      <td>Pharmacy</td>\n",
       "      <td>Athletics &amp; Sports</td>\n",
       "      <td>Gastropub</td>\n",
       "    </tr>\n",
       "    <tr>\n",
       "      <th>5</th>\n",
       "      <td>North York</td>\n",
       "      <td>Glencairn</td>\n",
       "      <td>Pizza Place</td>\n",
       "      <td>Pub</td>\n",
       "      <td>Bakery</td>\n",
       "      <td>Japanese Restaurant</td>\n",
       "      <td>Fast Food Restaurant</td>\n",
       "      <td>Convenience Store</td>\n",
       "      <td>Cosmetics Shop</td>\n",
       "      <td>Curling Ice</td>\n",
       "      <td>Deli / Bodega</td>\n",
       "      <td>Department Store</td>\n",
       "    </tr>\n",
       "    <tr>\n",
       "      <th>6</th>\n",
       "      <td>East York</td>\n",
       "      <td>Woodbine Heights</td>\n",
       "      <td>Pharmacy</td>\n",
       "      <td>Park</td>\n",
       "      <td>Skating Rink</td>\n",
       "      <td>Curling Ice</td>\n",
       "      <td>Athletics &amp; Sports</td>\n",
       "      <td>Beer Store</td>\n",
       "      <td>Spa</td>\n",
       "      <td>Bus Stop</td>\n",
       "      <td>Diner</td>\n",
       "      <td>Dog Run</td>\n",
       "    </tr>\n",
       "    <tr>\n",
       "      <th>7</th>\n",
       "      <td>York</td>\n",
       "      <td>Humewood-Cedarvale</td>\n",
       "      <td>Hockey Arena</td>\n",
       "      <td>Trail</td>\n",
       "      <td>Tennis Court</td>\n",
       "      <td>Field</td>\n",
       "      <td>Cosmetics Shop</td>\n",
       "      <td>Curling Ice</td>\n",
       "      <td>Convenience Store</td>\n",
       "      <td>Deli / Bodega</td>\n",
       "      <td>Fast Food Restaurant</td>\n",
       "      <td>Dessert Shop</td>\n",
       "    </tr>\n",
       "    <tr>\n",
       "      <th>9</th>\n",
       "      <td>East York</td>\n",
       "      <td>Leaside</td>\n",
       "      <td>Coffee Shop</td>\n",
       "      <td>Burger Joint</td>\n",
       "      <td>Furniture / Home Store</td>\n",
       "      <td>Bank</td>\n",
       "      <td>Sporting Goods Shop</td>\n",
       "      <td>Smoothie Shop</td>\n",
       "      <td>Sports Bar</td>\n",
       "      <td>Restaurant</td>\n",
       "      <td>Liquor Store</td>\n",
       "      <td>Sandwich Place</td>\n",
       "    </tr>\n",
       "    <tr>\n",
       "      <th>10</th>\n",
       "      <td>North York</td>\n",
       "      <td>Hillcrest Village</td>\n",
       "      <td>Pool</td>\n",
       "      <td>Mediterranean Restaurant</td>\n",
       "      <td>Golf Course</td>\n",
       "      <td>Dog Run</td>\n",
       "      <td>Construction &amp; Landscaping</td>\n",
       "      <td>Convenience Store</td>\n",
       "      <td>Cosmetics Shop</td>\n",
       "      <td>Curling Ice</td>\n",
       "      <td>Deli / Bodega</td>\n",
       "      <td>Department Store</td>\n",
       "    </tr>\n",
       "    <tr>\n",
       "      <th>11</th>\n",
       "      <td>North York</td>\n",
       "      <td>Bathurst Manor, Wilson Heights, Downsview North</td>\n",
       "      <td>Bank</td>\n",
       "      <td>Coffee Shop</td>\n",
       "      <td>Chinese Restaurant</td>\n",
       "      <td>Sandwich Place</td>\n",
       "      <td>Restaurant</td>\n",
       "      <td>Pizza Place</td>\n",
       "      <td>Pharmacy</td>\n",
       "      <td>Park</td>\n",
       "      <td>Mobile Phone Shop</td>\n",
       "      <td>Bridal Shop</td>\n",
       "    </tr>\n",
       "    <tr>\n",
       "      <th>12</th>\n",
       "      <td>East York</td>\n",
       "      <td>Thorncliffe Park</td>\n",
       "      <td>Indian Restaurant</td>\n",
       "      <td>Yoga Studio</td>\n",
       "      <td>Supermarket</td>\n",
       "      <td>Coffee Shop</td>\n",
       "      <td>Pharmacy</td>\n",
       "      <td>Pizza Place</td>\n",
       "      <td>Restaurant</td>\n",
       "      <td>Sandwich Place</td>\n",
       "      <td>Discount Store</td>\n",
       "      <td>Burger Joint</td>\n",
       "    </tr>\n",
       "    <tr>\n",
       "      <th>13</th>\n",
       "      <td>North York</td>\n",
       "      <td>Fairview, Henry Farm, Oriole</td>\n",
       "      <td>Clothing Store</td>\n",
       "      <td>Coffee Shop</td>\n",
       "      <td>Fast Food Restaurant</td>\n",
       "      <td>Restaurant</td>\n",
       "      <td>Bank</td>\n",
       "      <td>Pharmacy</td>\n",
       "      <td>Department Store</td>\n",
       "      <td>Electronics Store</td>\n",
       "      <td>Salon / Barbershop</td>\n",
       "      <td>Burger Joint</td>\n",
       "    </tr>\n",
       "    <tr>\n",
       "      <th>14</th>\n",
       "      <td>North York</td>\n",
       "      <td>Northwood Park, York University</td>\n",
       "      <td>Furniture / Home Store</td>\n",
       "      <td>Bar</td>\n",
       "      <td>Metro Station</td>\n",
       "      <td>Coffee Shop</td>\n",
       "      <td>Caribbean Restaurant</td>\n",
       "      <td>Miscellaneous Shop</td>\n",
       "      <td>Massage Studio</td>\n",
       "      <td>Electronics Store</td>\n",
       "      <td>Dog Run</td>\n",
       "      <td>Discount Store</td>\n",
       "    </tr>\n",
       "    <tr>\n",
       "      <th>16</th>\n",
       "      <td>North York</td>\n",
       "      <td>Bayview Village</td>\n",
       "      <td>Chinese Restaurant</td>\n",
       "      <td>Café</td>\n",
       "      <td>Bank</td>\n",
       "      <td>Japanese Restaurant</td>\n",
       "      <td>Yoga Studio</td>\n",
       "      <td>Field</td>\n",
       "      <td>Curling Ice</td>\n",
       "      <td>Deli / Bodega</td>\n",
       "      <td>Department Store</td>\n",
       "      <td>Dessert Shop</td>\n",
       "    </tr>\n",
       "    <tr>\n",
       "      <th>17</th>\n",
       "      <td>North York</td>\n",
       "      <td>Downsview</td>\n",
       "      <td>Airport</td>\n",
       "      <td>Park</td>\n",
       "      <td>Snack Place</td>\n",
       "      <td>Yoga Studio</td>\n",
       "      <td>Fast Food Restaurant</td>\n",
       "      <td>Convenience Store</td>\n",
       "      <td>Cosmetics Shop</td>\n",
       "      <td>Curling Ice</td>\n",
       "      <td>Deli / Bodega</td>\n",
       "      <td>Department Store</td>\n",
       "    </tr>\n",
       "    <tr>\n",
       "      <th>19</th>\n",
       "      <td>North York</td>\n",
       "      <td>North Park, Maple Leaf Park, Upwood Park</td>\n",
       "      <td>Construction &amp; Landscaping</td>\n",
       "      <td>Park</td>\n",
       "      <td>Basketball Court</td>\n",
       "      <td>Trail</td>\n",
       "      <td>Bakery</td>\n",
       "      <td>Yoga Studio</td>\n",
       "      <td>Diner</td>\n",
       "      <td>Electronics Store</td>\n",
       "      <td>Dog Run</td>\n",
       "      <td>Discount Store</td>\n",
       "    </tr>\n",
       "    <tr>\n",
       "      <th>21</th>\n",
       "      <td>North York</td>\n",
       "      <td>Bedford Park, Lawrence Manor East</td>\n",
       "      <td>Coffee Shop</td>\n",
       "      <td>Restaurant</td>\n",
       "      <td>Sandwich Place</td>\n",
       "      <td>Italian Restaurant</td>\n",
       "      <td>Pizza Place</td>\n",
       "      <td>Indian Restaurant</td>\n",
       "      <td>Cosmetics Shop</td>\n",
       "      <td>Pharmacy</td>\n",
       "      <td>Café</td>\n",
       "      <td>Butcher</td>\n",
       "    </tr>\n",
       "    <tr>\n",
       "      <th>22</th>\n",
       "      <td>York</td>\n",
       "      <td>Del Ray, Mount Dennis, Keelsdale and Silverthorn</td>\n",
       "      <td>Convenience Store</td>\n",
       "      <td>Turkish Restaurant</td>\n",
       "      <td>Sandwich Place</td>\n",
       "      <td>Skating Rink</td>\n",
       "      <td>Discount Store</td>\n",
       "      <td>Yoga Studio</td>\n",
       "      <td>Event Space</td>\n",
       "      <td>Construction &amp; Landscaping</td>\n",
       "      <td>Cosmetics Shop</td>\n",
       "      <td>Curling Ice</td>\n",
       "    </tr>\n",
       "    <tr>\n",
       "      <th>24</th>\n",
       "      <td>North York</td>\n",
       "      <td>Willowdale, Willowdale East</td>\n",
       "      <td>Ramen Restaurant</td>\n",
       "      <td>Pizza Place</td>\n",
       "      <td>Sandwich Place</td>\n",
       "      <td>Sushi Restaurant</td>\n",
       "      <td>Restaurant</td>\n",
       "      <td>Café</td>\n",
       "      <td>Coffee Shop</td>\n",
       "      <td>Plaza</td>\n",
       "      <td>Lounge</td>\n",
       "      <td>Discount Store</td>\n",
       "    </tr>\n",
       "    <tr>\n",
       "      <th>25</th>\n",
       "      <td>York</td>\n",
       "      <td>Runnymede, The Junction North</td>\n",
       "      <td>Convenience Store</td>\n",
       "      <td>Grocery Store</td>\n",
       "      <td>Bus Line</td>\n",
       "      <td>Brewery</td>\n",
       "      <td>Fast Food Restaurant</td>\n",
       "      <td>Cosmetics Shop</td>\n",
       "      <td>Curling Ice</td>\n",
       "      <td>Deli / Bodega</td>\n",
       "      <td>Department Store</td>\n",
       "      <td>Dessert Shop</td>\n",
       "    </tr>\n",
       "    <tr>\n",
       "      <th>28</th>\n",
       "      <td>North York</td>\n",
       "      <td>Willowdale, Willowdale West</td>\n",
       "      <td>Pizza Place</td>\n",
       "      <td>Grocery Store</td>\n",
       "      <td>Home Service</td>\n",
       "      <td>Coffee Shop</td>\n",
       "      <td>Pharmacy</td>\n",
       "      <td>Discount Store</td>\n",
       "      <td>Bank</td>\n",
       "      <td>Dessert Shop</td>\n",
       "      <td>Electronics Store</td>\n",
       "      <td>Dog Run</td>\n",
       "    </tr>\n",
       "  </tbody>\n",
       "</table>\n",
       "</div>"
      ],
      "text/plain": [
       "       Borough                                      Neighborhood  \\\n",
       "0   North York                                         Parkwoods   \n",
       "1   North York                                  Victoria Village   \n",
       "2   North York                  Lawrence Manor, Lawrence Heights   \n",
       "3   North York                                         Don Mills   \n",
       "4    East York                   Parkview Hill, Woodbine Gardens   \n",
       "5   North York                                         Glencairn   \n",
       "6    East York                                  Woodbine Heights   \n",
       "7         York                                Humewood-Cedarvale   \n",
       "9    East York                                           Leaside   \n",
       "10  North York                                 Hillcrest Village   \n",
       "11  North York   Bathurst Manor, Wilson Heights, Downsview North   \n",
       "12   East York                                  Thorncliffe Park   \n",
       "13  North York                      Fairview, Henry Farm, Oriole   \n",
       "14  North York                   Northwood Park, York University   \n",
       "16  North York                                   Bayview Village   \n",
       "17  North York                                         Downsview   \n",
       "19  North York          North Park, Maple Leaf Park, Upwood Park   \n",
       "21  North York                 Bedford Park, Lawrence Manor East   \n",
       "22        York  Del Ray, Mount Dennis, Keelsdale and Silverthorn   \n",
       "24  North York                       Willowdale, Willowdale East   \n",
       "25        York                     Runnymede, The Junction North   \n",
       "28  North York                       Willowdale, Willowdale West   \n",
       "\n",
       "               1st Most Common           2nd Most Common  \\\n",
       "0   Construction & Landscaping                      Park   \n",
       "1                 Hockey Arena               Coffee Shop   \n",
       "2               Clothing Store                  Boutique   \n",
       "3         Gym / Fitness Center      Caribbean Restaurant   \n",
       "4                  Pizza Place            Breakfast Spot   \n",
       "5                  Pizza Place                       Pub   \n",
       "6                     Pharmacy                      Park   \n",
       "7                 Hockey Arena                     Trail   \n",
       "9                  Coffee Shop              Burger Joint   \n",
       "10                        Pool  Mediterranean Restaurant   \n",
       "11                        Bank               Coffee Shop   \n",
       "12           Indian Restaurant               Yoga Studio   \n",
       "13              Clothing Store               Coffee Shop   \n",
       "14      Furniture / Home Store                       Bar   \n",
       "16          Chinese Restaurant                      Café   \n",
       "17                     Airport                      Park   \n",
       "19  Construction & Landscaping                      Park   \n",
       "21                 Coffee Shop                Restaurant   \n",
       "22           Convenience Store        Turkish Restaurant   \n",
       "24            Ramen Restaurant               Pizza Place   \n",
       "25           Convenience Store             Grocery Store   \n",
       "28                 Pizza Place             Grocery Store   \n",
       "\n",
       "           3rd Most Common         4th Most Common  \\\n",
       "0        Food & Drink Shop    Fast Food Restaurant   \n",
       "1        French Restaurant             Pizza Place   \n",
       "2                Gift Shop  Furniture / Home Store   \n",
       "3       Athletics & Sports                    Café   \n",
       "4                     Bank    Gym / Fitness Center   \n",
       "5                   Bakery     Japanese Restaurant   \n",
       "6             Skating Rink             Curling Ice   \n",
       "7             Tennis Court                   Field   \n",
       "9   Furniture / Home Store                    Bank   \n",
       "10             Golf Course                 Dog Run   \n",
       "11      Chinese Restaurant          Sandwich Place   \n",
       "12             Supermarket             Coffee Shop   \n",
       "13    Fast Food Restaurant              Restaurant   \n",
       "14           Metro Station             Coffee Shop   \n",
       "16                    Bank     Japanese Restaurant   \n",
       "17             Snack Place             Yoga Studio   \n",
       "19        Basketball Court                   Trail   \n",
       "21          Sandwich Place      Italian Restaurant   \n",
       "22          Sandwich Place            Skating Rink   \n",
       "24          Sandwich Place        Sushi Restaurant   \n",
       "25                Bus Line                 Brewery   \n",
       "28            Home Service             Coffee Shop   \n",
       "\n",
       "               5th Most Common       6th Most Common    7th Most Common  \\\n",
       "0            Convenience Store        Cosmetics Shop        Curling Ice   \n",
       "1        Portuguese Restaurant      Asian Restaurant              Field   \n",
       "2                  Event Space    Miscellaneous Shop        Coffee Shop   \n",
       "3          Japanese Restaurant                 Field        Curling Ice   \n",
       "4                         Café  Fast Food Restaurant       Intersection   \n",
       "5         Fast Food Restaurant     Convenience Store     Cosmetics Shop   \n",
       "6           Athletics & Sports            Beer Store                Spa   \n",
       "7               Cosmetics Shop           Curling Ice  Convenience Store   \n",
       "9          Sporting Goods Shop         Smoothie Shop         Sports Bar   \n",
       "10  Construction & Landscaping     Convenience Store     Cosmetics Shop   \n",
       "11                  Restaurant           Pizza Place           Pharmacy   \n",
       "12                    Pharmacy           Pizza Place         Restaurant   \n",
       "13                        Bank              Pharmacy   Department Store   \n",
       "14        Caribbean Restaurant    Miscellaneous Shop     Massage Studio   \n",
       "16                 Yoga Studio                 Field        Curling Ice   \n",
       "17        Fast Food Restaurant     Convenience Store     Cosmetics Shop   \n",
       "19                      Bakery           Yoga Studio              Diner   \n",
       "21                 Pizza Place     Indian Restaurant     Cosmetics Shop   \n",
       "22              Discount Store           Yoga Studio        Event Space   \n",
       "24                  Restaurant                  Café        Coffee Shop   \n",
       "25        Fast Food Restaurant        Cosmetics Shop        Curling Ice   \n",
       "28                    Pharmacy        Discount Store               Bank   \n",
       "\n",
       "               8th Most Common       9th Most Common       10th Most Common  \n",
       "0                Deli / Bodega      Department Store           Dessert Shop  \n",
       "1               Cosmetics Shop           Curling Ice          Deli / Bodega  \n",
       "2                   Shoe Store     Accessories Store  Vietnamese Restaurant  \n",
       "3                Deli / Bodega      Department Store           Dessert Shop  \n",
       "4                     Pharmacy    Athletics & Sports              Gastropub  \n",
       "5                  Curling Ice         Deli / Bodega       Department Store  \n",
       "6                     Bus Stop                 Diner                Dog Run  \n",
       "7                Deli / Bodega  Fast Food Restaurant           Dessert Shop  \n",
       "9                   Restaurant          Liquor Store         Sandwich Place  \n",
       "10                 Curling Ice         Deli / Bodega       Department Store  \n",
       "11                        Park     Mobile Phone Shop            Bridal Shop  \n",
       "12              Sandwich Place        Discount Store           Burger Joint  \n",
       "13           Electronics Store    Salon / Barbershop           Burger Joint  \n",
       "14           Electronics Store               Dog Run         Discount Store  \n",
       "16               Deli / Bodega      Department Store           Dessert Shop  \n",
       "17                 Curling Ice         Deli / Bodega       Department Store  \n",
       "19           Electronics Store               Dog Run         Discount Store  \n",
       "21                    Pharmacy                  Café                Butcher  \n",
       "22  Construction & Landscaping        Cosmetics Shop            Curling Ice  \n",
       "24                       Plaza                Lounge         Discount Store  \n",
       "25               Deli / Bodega      Department Store           Dessert Shop  \n",
       "28                Dessert Shop     Electronics Store                Dog Run  "
      ]
     },
     "execution_count": 106,
     "metadata": {},
     "output_type": "execute_result"
    }
   ],
   "source": [
    "cluster2 = york_merged.loc[york_merged['Cluster Labels'] == 1,\\\n",
    "                york_merged.columns[[1] + [2] + list(range(6, york_merged.shape[1]))]]\n",
    "\n",
    "cluster2"
   ]
  },
  {
   "cell_type": "markdown",
   "metadata": {},
   "source": [
    "### Cluster 3"
   ]
  },
  {
   "cell_type": "code",
   "execution_count": 108,
   "metadata": {},
   "outputs": [
    {
     "data": {
      "text/html": [
       "<div>\n",
       "<style scoped>\n",
       "    .dataframe tbody tr th:only-of-type {\n",
       "        vertical-align: middle;\n",
       "    }\n",
       "\n",
       "    .dataframe tbody tr th {\n",
       "        vertical-align: top;\n",
       "    }\n",
       "\n",
       "    .dataframe thead th {\n",
       "        text-align: right;\n",
       "    }\n",
       "</style>\n",
       "<table border=\"1\" class=\"dataframe\">\n",
       "  <thead>\n",
       "    <tr style=\"text-align: right;\">\n",
       "      <th></th>\n",
       "      <th>Borough</th>\n",
       "      <th>Neighborhood</th>\n",
       "      <th>1st Most Common</th>\n",
       "      <th>2nd Most Common</th>\n",
       "      <th>3rd Most Common</th>\n",
       "      <th>4th Most Common</th>\n",
       "      <th>5th Most Common</th>\n",
       "      <th>6th Most Common</th>\n",
       "      <th>7th Most Common</th>\n",
       "      <th>8th Most Common</th>\n",
       "      <th>9th Most Common</th>\n",
       "      <th>10th Most Common</th>\n",
       "    </tr>\n",
       "  </thead>\n",
       "  <tbody>\n",
       "    <tr>\n",
       "      <th>18</th>\n",
       "      <td>North York</td>\n",
       "      <td>York Mills, Silver Hills</td>\n",
       "      <td>Martial Arts Dojo</td>\n",
       "      <td>Yoga Studio</td>\n",
       "      <td>Field</td>\n",
       "      <td>Convenience Store</td>\n",
       "      <td>Cosmetics Shop</td>\n",
       "      <td>Curling Ice</td>\n",
       "      <td>Deli / Bodega</td>\n",
       "      <td>Department Store</td>\n",
       "      <td>Dessert Shop</td>\n",
       "      <td>Diner</td>\n",
       "    </tr>\n",
       "  </tbody>\n",
       "</table>\n",
       "</div>"
      ],
      "text/plain": [
       "       Borough              Neighborhood    1st Most Common 2nd Most Common  \\\n",
       "18  North York  York Mills, Silver Hills  Martial Arts Dojo     Yoga Studio   \n",
       "\n",
       "   3rd Most Common    4th Most Common 5th Most Common 6th Most Common  \\\n",
       "18           Field  Convenience Store  Cosmetics Shop     Curling Ice   \n",
       "\n",
       "   7th Most Common   8th Most Common 9th Most Common 10th Most Common  \n",
       "18   Deli / Bodega  Department Store    Dessert Shop            Diner  "
      ]
     },
     "execution_count": 108,
     "metadata": {},
     "output_type": "execute_result"
    }
   ],
   "source": [
    "cluster3 = york_merged.loc[york_merged['Cluster Labels'] == 2,\\\n",
    "                york_merged.columns[[1] + [2] + list(range(6, york_merged.shape[1]))]]\n",
    "\n",
    "cluster3"
   ]
  },
  {
   "cell_type": "markdown",
   "metadata": {},
   "source": [
    "### Cluster 4 "
   ]
  },
  {
   "cell_type": "code",
   "execution_count": 109,
   "metadata": {
    "scrolled": true
   },
   "outputs": [
    {
     "data": {
      "text/html": [
       "<div>\n",
       "<style scoped>\n",
       "    .dataframe tbody tr th:only-of-type {\n",
       "        vertical-align: middle;\n",
       "    }\n",
       "\n",
       "    .dataframe tbody tr th {\n",
       "        vertical-align: top;\n",
       "    }\n",
       "\n",
       "    .dataframe thead th {\n",
       "        text-align: right;\n",
       "    }\n",
       "</style>\n",
       "<table border=\"1\" class=\"dataframe\">\n",
       "  <thead>\n",
       "    <tr style=\"text-align: right;\">\n",
       "      <th></th>\n",
       "      <th>Borough</th>\n",
       "      <th>Neighborhood</th>\n",
       "      <th>1st Most Common</th>\n",
       "      <th>2nd Most Common</th>\n",
       "      <th>3rd Most Common</th>\n",
       "      <th>4th Most Common</th>\n",
       "      <th>5th Most Common</th>\n",
       "      <th>6th Most Common</th>\n",
       "      <th>7th Most Common</th>\n",
       "      <th>8th Most Common</th>\n",
       "      <th>9th Most Common</th>\n",
       "      <th>10th Most Common</th>\n",
       "    </tr>\n",
       "  </thead>\n",
       "  <tbody>\n",
       "    <tr>\n",
       "      <th>20</th>\n",
       "      <td>North York</td>\n",
       "      <td>Humber Summit</td>\n",
       "      <td>Pizza Place</td>\n",
       "      <td>Yoga Studio</td>\n",
       "      <td>Health Food Store</td>\n",
       "      <td>Convenience Store</td>\n",
       "      <td>Cosmetics Shop</td>\n",
       "      <td>Curling Ice</td>\n",
       "      <td>Deli / Bodega</td>\n",
       "      <td>Department Store</td>\n",
       "      <td>Dessert Shop</td>\n",
       "      <td>Diner</td>\n",
       "    </tr>\n",
       "  </tbody>\n",
       "</table>\n",
       "</div>"
      ],
      "text/plain": [
       "       Borough   Neighborhood 1st Most Common 2nd Most Common  \\\n",
       "20  North York  Humber Summit     Pizza Place     Yoga Studio   \n",
       "\n",
       "      3rd Most Common    4th Most Common 5th Most Common 6th Most Common  \\\n",
       "20  Health Food Store  Convenience Store  Cosmetics Shop     Curling Ice   \n",
       "\n",
       "   7th Most Common   8th Most Common 9th Most Common 10th Most Common  \n",
       "20   Deli / Bodega  Department Store    Dessert Shop            Diner  "
      ]
     },
     "execution_count": 109,
     "metadata": {},
     "output_type": "execute_result"
    }
   ],
   "source": [
    "cluster4 = york_merged.loc[york_merged['Cluster Labels'] == 3,\\\n",
    "                york_merged.columns[[1] + [2] + list(range(6, york_merged.shape[1]))]]\n",
    "cluster4"
   ]
  },
  {
   "cell_type": "markdown",
   "metadata": {},
   "source": [
    "### Cluster 5"
   ]
  },
  {
   "cell_type": "code",
   "execution_count": 111,
   "metadata": {
    "scrolled": true
   },
   "outputs": [
    {
     "data": {
      "text/html": [
       "<div>\n",
       "<style scoped>\n",
       "    .dataframe tbody tr th:only-of-type {\n",
       "        vertical-align: middle;\n",
       "    }\n",
       "\n",
       "    .dataframe tbody tr th {\n",
       "        vertical-align: top;\n",
       "    }\n",
       "\n",
       "    .dataframe thead th {\n",
       "        text-align: right;\n",
       "    }\n",
       "</style>\n",
       "<table border=\"1\" class=\"dataframe\">\n",
       "  <thead>\n",
       "    <tr style=\"text-align: right;\">\n",
       "      <th></th>\n",
       "      <th>Borough</th>\n",
       "      <th>Neighborhood</th>\n",
       "      <th>1st Most Common</th>\n",
       "      <th>2nd Most Common</th>\n",
       "      <th>3rd Most Common</th>\n",
       "      <th>4th Most Common</th>\n",
       "      <th>5th Most Common</th>\n",
       "      <th>6th Most Common</th>\n",
       "      <th>7th Most Common</th>\n",
       "      <th>8th Most Common</th>\n",
       "      <th>9th Most Common</th>\n",
       "      <th>10th Most Common</th>\n",
       "    </tr>\n",
       "  </thead>\n",
       "  <tbody>\n",
       "    <tr>\n",
       "      <th>8</th>\n",
       "      <td>York</td>\n",
       "      <td>Caledonia-Fairbanks</td>\n",
       "      <td>Park</td>\n",
       "      <td>Women's Store</td>\n",
       "      <td>Pool</td>\n",
       "      <td>Yoga Studio</td>\n",
       "      <td>Fast Food Restaurant</td>\n",
       "      <td>Convenience Store</td>\n",
       "      <td>Cosmetics Shop</td>\n",
       "      <td>Curling Ice</td>\n",
       "      <td>Deli / Bodega</td>\n",
       "      <td>Department Store</td>\n",
       "    </tr>\n",
       "    <tr>\n",
       "      <th>15</th>\n",
       "      <td>East York</td>\n",
       "      <td>East Toronto, Broadview North (Old East York)</td>\n",
       "      <td>Park</td>\n",
       "      <td>Convenience Store</td>\n",
       "      <td>Rental Car Location</td>\n",
       "      <td>Yoga Studio</td>\n",
       "      <td>Comfort Food Restaurant</td>\n",
       "      <td>Cosmetics Shop</td>\n",
       "      <td>Curling Ice</td>\n",
       "      <td>Deli / Bodega</td>\n",
       "      <td>Department Store</td>\n",
       "      <td>Dessert Shop</td>\n",
       "    </tr>\n",
       "    <tr>\n",
       "      <th>26</th>\n",
       "      <td>York</td>\n",
       "      <td>Weston</td>\n",
       "      <td>Convenience Store</td>\n",
       "      <td>Park</td>\n",
       "      <td>Yoga Studio</td>\n",
       "      <td>Health Food Store</td>\n",
       "      <td>Cosmetics Shop</td>\n",
       "      <td>Curling Ice</td>\n",
       "      <td>Deli / Bodega</td>\n",
       "      <td>Department Store</td>\n",
       "      <td>Dessert Shop</td>\n",
       "      <td>Diner</td>\n",
       "    </tr>\n",
       "    <tr>\n",
       "      <th>27</th>\n",
       "      <td>North York</td>\n",
       "      <td>York Mills West</td>\n",
       "      <td>Convenience Store</td>\n",
       "      <td>Park</td>\n",
       "      <td>Moving Target</td>\n",
       "      <td>Bar</td>\n",
       "      <td>Fast Food Restaurant</td>\n",
       "      <td>Cosmetics Shop</td>\n",
       "      <td>Curling Ice</td>\n",
       "      <td>Deli / Bodega</td>\n",
       "      <td>Department Store</td>\n",
       "      <td>Dessert Shop</td>\n",
       "    </tr>\n",
       "  </tbody>\n",
       "</table>\n",
       "</div>"
      ],
      "text/plain": [
       "       Borough                                   Neighborhood  \\\n",
       "8         York                            Caledonia-Fairbanks   \n",
       "15   East York  East Toronto, Broadview North (Old East York)   \n",
       "26        York                                         Weston   \n",
       "27  North York                                York Mills West   \n",
       "\n",
       "      1st Most Common    2nd Most Common      3rd Most Common  \\\n",
       "8                Park      Women's Store                 Pool   \n",
       "15               Park  Convenience Store  Rental Car Location   \n",
       "26  Convenience Store               Park          Yoga Studio   \n",
       "27  Convenience Store               Park        Moving Target   \n",
       "\n",
       "      4th Most Common          5th Most Common    6th Most Common  \\\n",
       "8         Yoga Studio     Fast Food Restaurant  Convenience Store   \n",
       "15        Yoga Studio  Comfort Food Restaurant     Cosmetics Shop   \n",
       "26  Health Food Store           Cosmetics Shop        Curling Ice   \n",
       "27                Bar     Fast Food Restaurant     Cosmetics Shop   \n",
       "\n",
       "   7th Most Common   8th Most Common   9th Most Common  10th Most Common  \n",
       "8   Cosmetics Shop       Curling Ice     Deli / Bodega  Department Store  \n",
       "15     Curling Ice     Deli / Bodega  Department Store      Dessert Shop  \n",
       "26   Deli / Bodega  Department Store      Dessert Shop             Diner  \n",
       "27     Curling Ice     Deli / Bodega  Department Store      Dessert Shop  "
      ]
     },
     "execution_count": 111,
     "metadata": {},
     "output_type": "execute_result"
    }
   ],
   "source": [
    "cluster5 = york_merged.loc[york_merged['Cluster Labels'] == 4,\\\n",
    "                york_merged.columns[[1] + [2] + list(range(6, york_merged.shape[1]))]]\n",
    "cluster5"
   ]
  },
  {
   "cell_type": "markdown",
   "metadata": {},
   "source": [
    "# This is the end of the notebook. Thank you for viewing it.\n",
    "# Author: Olaleke, Moshood A.\n"
   ]
  }
 ],
 "metadata": {
  "kernelspec": {
   "display_name": "Python 3",
   "language": "python",
   "name": "python3"
  },
  "language_info": {
   "codemirror_mode": {
    "name": "ipython",
    "version": 3
   },
   "file_extension": ".py",
   "mimetype": "text/x-python",
   "name": "python",
   "nbconvert_exporter": "python",
   "pygments_lexer": "ipython3",
   "version": "3.7.6"
  }
 },
 "nbformat": 4,
 "nbformat_minor": 4
}
